{
 "cells": [
  {
   "cell_type": "markdown",
   "metadata": {
    "id": "F9ERgBpbcMmB"
   },
   "source": [
    "# HW1: Frame-Level Speech Recognition"
   ]
  },
  {
   "cell_type": "markdown",
   "metadata": {
    "id": "CLkH6GMGcWcE"
   },
   "source": [
    "In this homework, you will be working with MFCC data consisting of 15 features at each time step/frame. Your model should be able to recognize the phoneme occured in that frame."
   ]
  },
  {
   "cell_type": "markdown",
   "metadata": {
    "id": "z4vZbDmJvMp1"
   },
   "source": [
    "# Libraries"
   ]
  },
  {
   "cell_type": "code",
   "execution_count": 1,
   "metadata": {
    "id": "rwYu9sSUnSho"
   },
   "outputs": [],
   "source": [
    "# !pip install torchsummaryX wandb --quiet"
   ]
  },
  {
   "cell_type": "code",
   "execution_count": 2,
   "metadata": {
    "colab": {
     "base_uri": "https://localhost:8080/"
    },
    "id": "qI4qfx7tiBZt",
    "outputId": "e51869ed-4881-43cd-9c7d-25d9f113ce0c"
   },
   "outputs": [
    {
     "name": "stdout",
     "output_type": "stream",
     "text": [
      "Device:  cuda\n"
     ]
    }
   ],
   "source": [
    "import torch\n",
    "import numpy as np\n",
    "from torchsummaryX import summary\n",
    "import sklearn\n",
    "from sklearn.metrics import accuracy_score\n",
    "import gc\n",
    "import zipfile\n",
    "import pandas as pd\n",
    "from tqdm.auto import tqdm\n",
    "import os\n",
    "import datetime\n",
    "import wandb\n",
    "device = 'cuda' if torch.cuda.is_available() else 'cpu'\n",
    "print(\"Device: \", device)"
   ]
  },
  {
   "cell_type": "code",
   "execution_count": 3,
   "metadata": {
    "id": "8yBgXjKV1O0Z"
   },
   "outputs": [],
   "source": [
    "### If you are using colab, you can import google drive to save model checkpoints in a folder\n",
    "# from google.colab import drive\n",
    "# drive.mount('/content/drive')"
   ]
  },
  {
   "cell_type": "code",
   "execution_count": 4,
   "metadata": {
    "id": "N-9qE20hmCgQ",
    "tags": []
   },
   "outputs": [],
   "source": [
    "### PHONEME LIST\n",
    "PHONEMES = [\n",
    "            'SIL',   'AA',    'AE',    'AH',    'AO',    'AW',    'AY',  \n",
    "            'B',     'CH',    'D',     'DH',    'EH',    'ER',    'EY',\n",
    "            'F',     'G',     'HH',    'IH',    'IY',    'JH',    'K',\n",
    "            'L',     'M',     'N',     'NG',    'OW',    'OY',    'P',\n",
    "            'R',     'S',     'SH',    'T',     'TH',    'UH',    'UW',\n",
    "            'V',     'W',     'Y',     'Z',     'ZH',    '<sos>', '<eos>']"
   ]
  },
  {
   "cell_type": "markdown",
   "metadata": {
    "id": "ZIi0Big7vPa9"
   },
   "source": [
    "# Kaggle"
   ]
  },
  {
   "cell_type": "markdown",
   "metadata": {
    "id": "BBCbeRhixGM7"
   },
   "source": [
    "This section contains code that helps you install kaggle's API, creating kaggle.json with you username and API key details. Make sure to input those in the given code to ensure you can download data from the competition successfully."
   ]
  },
  {
   "cell_type": "code",
   "execution_count": 5,
   "metadata": {
    "id": "TPBUd7Cnl-Rx"
   },
   "outputs": [],
   "source": [
    "# !pip install --upgrade --force-reinstall --no-deps kaggle==1.5.8\n",
    "# !mkdir /root/.kaggle\n",
    "\n",
    "# with open(\"/root/.kaggle/kaggle.json\", \"w+\") as f:\n",
    "#     f.write('{\"username\":\"\",\"key\":\"\"}') \n",
    "#     # Put your kaggle username & key here\n",
    "\n",
    "# !chmod 600 /root/.kaggle/kaggle.json"
   ]
  },
  {
   "cell_type": "code",
   "execution_count": 6,
   "metadata": {
    "colab": {
     "base_uri": "https://localhost:8080/"
    },
    "id": "if2Somqfbje1",
    "outputId": "ca0cd1c0-adb2-4e59-e80c-f0234b00580c"
   },
   "outputs": [],
   "source": [
    "# # commands to download data from kaggle\n",
    "\n",
    "# !kaggle competitions download -c 11-785-f22-hw1p2\n",
    "# !mkdir '/content/data'\n",
    "\n",
    "# !unzip -qo '11-785-f22-hw1p2.zip' -d '/content/data'"
   ]
  },
  {
   "cell_type": "markdown",
   "metadata": {
    "id": "Vuzce0_TdcaR"
   },
   "source": [
    "# Dataset"
   ]
  },
  {
   "cell_type": "markdown",
   "metadata": {
    "id": "2_7QgMbBdgPp"
   },
   "source": [
    "This section covers the dataset/dataloader class for speech data. You will have to spend time writing code to create this class successfully. We have given you a lot of comments guiding you on what code to write at each stage, from top to bottom of the class. Please try and take your time figuring this out, as it will immensely help in creating dataset/dataloader classes for future homeworks.\n",
    "\n",
    "Before running the following cells, please take some time to analyse the structure of data. Try loading a single MFCC and its transcipt, print out the shapes and print out the values. Do the transcripts look like phonemes?"
   ]
  },
  {
   "cell_type": "markdown",
   "metadata": {},
   "source": [
    "### Deviation"
   ]
  },
  {
   "cell_type": "code",
   "execution_count": 7,
   "metadata": {},
   "outputs": [
    {
     "name": "stdout",
     "output_type": "stream",
     "text": [
      "2703\n",
      "396367\n"
     ]
    }
   ],
   "source": [
    "dev_dirs = os.listdir('data/dev-clean/transcript')\n",
    "print(len(dev_dirs))\n",
    "\n",
    "SIL_cnts = 0\n",
    "for i in range(len(dev_dirs)):\n",
    "    dev_labels = np.load(os.path.join('data/dev-clean/transcript', dev_dirs[i]))\n",
    "    SIL_cnts += list(dev_labels).count('SIL')\n",
    "    \n",
    "print(SIL_cnts)"
   ]
  },
  {
   "cell_type": "code",
   "execution_count": null,
   "metadata": {},
   "outputs": [],
   "source": []
  },
  {
   "cell_type": "markdown",
   "metadata": {},
   "source": [
    "### Dataset Class"
   ]
  },
  {
   "cell_type": "code",
   "execution_count": 8,
   "metadata": {
    "id": "YpLCvi3AJC5z"
   },
   "outputs": [],
   "source": [
    "# Dataset class to load train and validation data\n",
    "\n",
    "class AudioDataset(torch.utils.data.Dataset):\n",
    "\n",
    "    def __init__(self, data_path, context, offset=0, partition= \"train\", limit=-1): # Feel free to add more arguments\n",
    "\n",
    "        self.context = context\n",
    "        self.offset = offset\n",
    "        self.data_path = data_path\n",
    "\n",
    "        if partition == 'train':\n",
    "            self.mfcc_dir = os.path.join(self.data_path, partition+'-clean-100', 'mfcc') # TODO: MFCC directory - use partition to acces train/dev directories from kaggle data\n",
    "            self.transcript_dir = os.path.join(self.data_path, partition+'-clean-100', 'transcript') # TODO: Transcripts directory - use partition to acces train/dev directories from kaggle data\n",
    "        else:\n",
    "            self.mfcc_dir = os.path.join(self.data_path, partition+'-clean', 'mfcc') # TODO: MFCC directory - use partition to acces train/dev directories from kaggle data\n",
    "            self.transcript_dir = os.path.join(self.data_path, partition+'-clean', 'transcript') # TODO: Transcripts directory - use partition to acces train/dev directories from kaggle data\n",
    "            \n",
    "        mfcc_names = sorted(os.listdir(self.mfcc_dir)) # TODO: List files in sefl.mfcc_dir_dir using os.listdir in sorted order, optionally subset using limit to slice the number of files you load\n",
    "        transcript_names = sorted(os.listdir(self.transcript_dir)) # TODO: List files in self.transcript_dir using os.listdir in sorted order, optionally subset using limit to slice the number of files you load\n",
    "\n",
    "        assert len(mfcc_names) == len(transcript_names) # Making sure that we have the same no. of mfcc and transcripts\n",
    "\n",
    "        self.mfccs, self.transcripts = [], []\n",
    "\n",
    "        # TODO:\n",
    "        # Iterate through mfccs and transcripts\n",
    "        for i in range(0, len(mfcc_names)):\n",
    "        #   Load a single mfcc\n",
    "            mfcc = np.load(os.path.join(self.mfcc_dir, mfcc_names[i]))\n",
    "        #   Optionally do Cepstral Normalization of mfcc\n",
    "        #   Load the corresponding transcript\n",
    "            transcript = np.load(os.path.join(self.transcript_dir, transcript_names[i]))[1:-1] # Remove [SOS] and [EOS] from the transcript (Is there an efficient way to do this \n",
    "            # without traversing through the transcript?)\n",
    "        #   Append each mfcc to self.mfcc, transcript to self.transcript\n",
    "            self.mfccs.append(mfcc)\n",
    "            self.transcripts.append(transcript)\n",
    "\n",
    "        \n",
    "\n",
    "        # NOTE:\n",
    "        # Each mfcc is of shape T1 x 15, T2 x 15, ...\n",
    "        # Each transcript is of shape (T1+2) x 15, (T2+2) x 15 before removing [SOS] and [EOS]\n",
    "\n",
    "        # TODO: Concatenate all mfccs in self.mfccs such that the final shape is T x 15 (Where T = T1 + T2 + ...) \n",
    "        self.mfccs = np.concatenate(self.mfccs)\n",
    "        print(self.mfccs.shape)\n",
    "\n",
    "        # TODO: Concatenate all transcripts in self.transcripts such that the final shape is (T,) meaning, each time step has one phoneme output\n",
    "        self.transcripts = np.concatenate(self.transcripts)\n",
    "        print(self.transcripts.shape)\n",
    "        # Hint: Use numpy to concatenate\n",
    "\n",
    "        # Take some time to think about what we have done. self.mfcc is an array of the format (Frames x Features). Our goal is to recognize phonemes of each frame\n",
    "        # From hw0, you will be knowing what context is. We can introduce context by padding zeros on top and bottom of self.mfcc\n",
    "        self.mfccs = np.pad(self.mfccs, ((config['context'], config['context']), (0,0)), mode='constant', constant_values=0) # TODO\n",
    "        print(self.mfccs.shape)\n",
    "\n",
    "        # These are the available phonemes in the transcript\n",
    "        self.phonemes = [\n",
    "            'SIL',   'AA',    'AE',    'AH',    'AO',    'AW',    'AY',  \n",
    "            'B',     'CH',    'D',     'DH',    'EH',    'ER',    'EY',\n",
    "            'F',     'G',     'HH',    'IH',    'IY',    'JH',    'K',\n",
    "            'L',     'M',     'N',     'NG',    'OW',    'OY',    'P',\n",
    "            'R',     'S',     'SH',    'T',     'TH',    'UH',    'UW',\n",
    "            'V',     'W',     'Y',     'Z',     'ZH',    '<sos>', '<eos>']\n",
    "        # But the neural network cannot predict strings as such. Instead we map these phonemes to integers\n",
    "\n",
    "        self.transcripts = np.array([self.phonemes.index(i) for i in self.transcripts]) # TODO: Map the phonemes to their corresponding list indexes in self.phonemes\n",
    "        # Now, if an element in self.transcript is 0, it means that it is 'SIL' (as per the above example)\n",
    "        \n",
    "        # Length of the dataset is now the length of concatenated mfccs/transcripts\n",
    "        self.length = len(self.mfccs) - 2*self.context\n",
    "\n",
    "    def __len__(self):\n",
    "        return self.length\n",
    "\n",
    "    def __getitem__(self, ind):\n",
    "        \n",
    "        frames = self.mfccs[ind:ind + 2*self.context + 1, :] # TODO: Based on context and offset, return a frame at given index with context frames to the left, and right.\n",
    "        # After slicing, you get an array of shape 2*context+1 x 15. But our MLP needs 1d data and not 2d.\n",
    "        frames = np.ndarray.flatten(frames) # TODO: Flatten to get 1d data\n",
    "\n",
    "        frames = torch.FloatTensor(frames) # Convert to tensors\n",
    "        phoneme = torch.tensor(self.transcripts[ind])  \n",
    "\n",
    "        return frames, phoneme"
   ]
  },
  {
   "cell_type": "code",
   "execution_count": 9,
   "metadata": {
    "id": "e8KfVP39S6o7",
    "tags": []
   },
   "outputs": [],
   "source": [
    "class AudioTestDataset(torch.utils.data.Dataset):\n",
    "\n",
    "    # TODO: Create a test dataset class similar to the previous class but you dont have transcripts for this\n",
    "    # Imp: Read the mfccs in sorted order, do NOT shuffle the data here or in your dataloader.\n",
    "\n",
    "    def __init__(self, data_path, context, offset=0, limit=-1): # Feel free to add more arguments\n",
    "\n",
    "        self.context = context\n",
    "        self.offset = offset\n",
    "        self.data_path = data_path\n",
    "\n",
    "        self.mfcc_dir = os.path.join(self.data_path, 'test-clean', 'mfcc') # TODO: MFCC directory - use partition to acces train/dev directories from kaggle data\n",
    "            \n",
    "        mfcc_names = sorted(os.listdir(self.mfcc_dir)) # TODO: List files in sefl.mfcc_dir_dir using os.listdir in sorted order, optionally subset using limit to slice the number of files you load\n",
    "\n",
    "        self.mfccs = []\n",
    "\n",
    "        # TODO:\n",
    "        # Iterate through mfccs and transcripts\n",
    "        for i in range(0, len(mfcc_names)):\n",
    "        #   Load a single mfcc\n",
    "            mfcc = np.load(os.path.join(self.mfcc_dir, mfcc_names[i]))\n",
    "        #   Optionally do Cepstral Normalization of mfcc\n",
    "        #   Append each mfcc to self.mfcc, transcript to self.transcript\n",
    "            self.mfccs.append(mfcc)\n",
    "        \n",
    "\n",
    "        # NOTE:\n",
    "        # Each mfcc is of shape T1 x 15, T2 x 15, ...\n",
    "        # Each transcript is of shape (T1+2) x 15, (T2+2) x 15 before removing [SOS] and [EOS]\n",
    "\n",
    "        # TODO: Concatenate all mfccs in self.mfccs such that the final shape is T x 15 (Where T = T1 + T2 + ...) \n",
    "        self.mfccs = np.concatenate(self.mfccs)\n",
    "\n",
    "        # Take some time to think about what we have done. self.mfcc is an array of the format (Frames x Features). Our goal is to recognize phonemes of each frame\n",
    "        # From hw0, you will be knowing what context is. We can introduce context by padding zeros on top and bottom of self.mfcc\n",
    "        self.mfccs = np.pad(self.mfccs, ((self.context, self.context), (0,0)), mode='constant', constant_values=0) # TODO\n",
    "\n",
    "        # These are the available phonemes in the transcript\n",
    "        self.phonemes = [\n",
    "            'SIL',   'AA',    'AE',    'AH',    'AO',    'AW',    'AY',  \n",
    "            'B',     'CH',    'D',     'DH',    'EH',    'ER',    'EY',\n",
    "            'F',     'G',     'HH',    'IH',    'IY',    'JH',    'K',\n",
    "            'L',     'M',     'N',     'NG',    'OW',    'OY',    'P',\n",
    "            'R',     'S',     'SH',    'T',     'TH',    'UH',    'UW',\n",
    "            'V',     'W',     'Y',     'Z',     'ZH',    '<sos>', '<eos>']\n",
    "        # But the neural network cannot predict strings as such. Instead we map these phonemes to integers\n",
    "\n",
    "        \n",
    "        # Length of the dataset is now the length of concatenated mfccs/transcripts\n",
    "        self.length = len(self.mfccs) - 2*self.context\n",
    "\n",
    "    def __len__(self):\n",
    "        return self.length\n",
    "\n",
    "    def __getitem__(self, ind):\n",
    "        \n",
    "        frames = self.mfccs[ind:ind + 2*self.context + 1, :] # TODO: Based on context and offset, return a frame at given index with context frames to the left, and right.\n",
    "        # After slicing, you get an array of shape 2*context+1 x 15. But our MLP needs 1d data and not 2d.\n",
    "        frames = np.ndarray.flatten(frames) # TODO: Flatten to get 1d data\n",
    "\n",
    "        frames = torch.FloatTensor(frames) # Convert to tensors\n",
    "\n",
    "        return frames"
   ]
  },
  {
   "cell_type": "markdown",
   "metadata": {
    "id": "qNacQ8bpt9nw"
   },
   "source": [
    "# Parameters Configuration"
   ]
  },
  {
   "cell_type": "markdown",
   "metadata": {
    "id": "WE7tsinAuLNy"
   },
   "source": [
    "Storing your parameters and hyperparameters in a single configuration dictionary makes it easier to keep track of them during each experiment. It can also be used with weights and biases to log your parameters for each experiment and keep track of them across multiple experiments. "
   ]
  },
  {
   "cell_type": "markdown",
   "metadata": {},
   "source": [
    "#### Model hyperparameter settings\n",
    "\n",
    "I changed the model hyperparameters as following config dictionary. While training the model, the CosineAnnealing scheduler and AdamW optimizer is used. Also, the weight_decay value is set for the regularization since the size of model is big enough. "
   ]
  },
  {
   "cell_type": "code",
   "execution_count": 10,
   "metadata": {
    "id": "PmKwlFqgt_Zq"
   },
   "outputs": [],
   "source": [
    "config = {\n",
    "    'epochs': 50,\n",
    "    'batch_size' : 2048,\n",
    "    'context' : 20,\n",
    "    'learning_rate' : 0.001,\n",
    "    'architecture' : 'cylinder',\n",
    "    'dropout' : 0.2,\n",
    "    'scheduler' : 'Cosine',\n",
    "    'T_max' : 10,\n",
    "    'weight_decay' : 1e-6,\n",
    "    'optimizer' : 'AdamW'\n",
    "    # Add more as you need them - e.g dropout values, weight decay, scheduler parameters\n",
    "}"
   ]
  },
  {
   "cell_type": "markdown",
   "metadata": {
    "id": "2mlwaKlDt_2c"
   },
   "source": [
    "# Create Datasets"
   ]
  },
  {
   "cell_type": "code",
   "execution_count": 11,
   "metadata": {
    "id": "7xi7V8x8W9z4"
   },
   "outputs": [
    {
     "name": "stdout",
     "output_type": "stream",
     "text": [
      "(36191134, 15)\n",
      "(36191134,)\n",
      "(36191174, 15)\n",
      "(1937496, 15)\n",
      "(1937496,)\n",
      "(1937536, 15)\n"
     ]
    }
   ],
   "source": [
    "train_data = AudioDataset('data', context=config['context'], partition='train') #TODO: Create a dataset object using the AudioDataset class for the training data \n",
    "\n",
    "val_data = AudioDataset('data', context=config['context'], partition='dev') # TODO: Create a dataset object using the AudioDataset class for the validation data \n",
    "\n",
    "test_data = AudioTestDataset('data', context=config['context']) # TODO: Create a dataset object using the AudioTestDataset class for the test data "
   ]
  },
  {
   "cell_type": "code",
   "execution_count": 12,
   "metadata": {
    "id": "4mzoYfTKu14s"
   },
   "outputs": [
    {
     "name": "stdout",
     "output_type": "stream",
     "text": [
      "Batch size:  2048\n",
      "Context:  20\n",
      "Input size:  615\n",
      "Output symbols:  42\n",
      "Train dataset samples = 36191134, batches = 17672\n",
      "Validation dataset samples = 1937496, batches = 947\n",
      "Test dataset samples = 1943253, batches = 949\n"
     ]
    }
   ],
   "source": [
    "# Define dataloaders for train, val and test datasets\n",
    "# Dataloaders will yield a batch of frames and phonemes of given batch_size at every iteration\n",
    "train_loader = torch.utils.data.DataLoader(train_data, num_workers= 4,\n",
    "                                           batch_size=config['batch_size'], pin_memory= True,\n",
    "                                           shuffle= True)\n",
    "\n",
    "val_loader = torch.utils.data.DataLoader(val_data, num_workers= 2,\n",
    "                                         batch_size=config['batch_size'], pin_memory= True,\n",
    "                                         shuffle= False)\n",
    "\n",
    "test_loader = torch.utils.data.DataLoader(test_data, num_workers= 2, \n",
    "                                          batch_size=config['batch_size'], pin_memory= True, \n",
    "                                          shuffle= False)\n",
    "\n",
    "\n",
    "print(\"Batch size: \", config['batch_size'])\n",
    "print(\"Context: \", config['context'])\n",
    "print(\"Input size: \", (2*config['context']+1)*15)\n",
    "print(\"Output symbols: \", len(PHONEMES))\n",
    "\n",
    "print(\"Train dataset samples = {}, batches = {}\".format(train_data.__len__(), len(train_loader)))\n",
    "print(\"Validation dataset samples = {}, batches = {}\".format(val_data.__len__(), len(val_loader)))\n",
    "print(\"Test dataset samples = {}, batches = {}\".format(test_data.__len__(), len(test_loader)))"
   ]
  },
  {
   "cell_type": "code",
   "execution_count": 13,
   "metadata": {
    "id": "n-GV3UvgLSoF"
   },
   "outputs": [
    {
     "name": "stdout",
     "output_type": "stream",
     "text": [
      "torch.Size([2048, 615]) torch.Size([2048])\n"
     ]
    }
   ],
   "source": [
    "# Testing code to check if your data loaders are working\n",
    "for i, data in enumerate(train_loader):\n",
    "    frames, phoneme = data\n",
    "    print(frames.shape, phoneme.shape)\n",
    "    break"
   ]
  },
  {
   "cell_type": "code",
   "execution_count": 14,
   "metadata": {},
   "outputs": [
    {
     "name": "stdout",
     "output_type": "stream",
     "text": [
      "torch.Size([2048, 615])\n"
     ]
    }
   ],
   "source": [
    "# Testing code to check if your data loaders are working\n",
    "for i, data in enumerate(test_loader):\n",
    "    frames = data\n",
    "    print(frames.shape)\n",
    "    break"
   ]
  },
  {
   "cell_type": "markdown",
   "metadata": {
    "id": "Nxjwve20JRJ2"
   },
   "source": [
    "# Network Architecture\n"
   ]
  },
  {
   "cell_type": "markdown",
   "metadata": {
    "id": "3NJzT-mRw6iy"
   },
   "source": [
    "This section defines your network architecture for the homework. We have given you a sample architecture that can easily clear the very low cutoff for the early submission deadline."
   ]
  },
  {
   "cell_type": "markdown",
   "metadata": {},
   "source": [
    "#### The description about the architecture\n",
    "The MLP architecture I made has 5 hidden layers with 2048 dimensions. The shape of the architecture is almost cylinder except the last hidden and output layer. \n",
    "We can run and train this model by running all the cells in the order. "
   ]
  },
  {
   "cell_type": "code",
   "execution_count": 15,
   "metadata": {
    "id": "OvcpontXQq9j"
   },
   "outputs": [],
   "source": [
    "# This architecture will make you cross the very low cutoff\n",
    "# However, you need to run a lot of experiments to cross the medium or high cutoff\n",
    "class Network(torch.nn.Module):\n",
    "\n",
    "    def __init__(self, context, dropout):\n",
    "\n",
    "        super(Network, self).__init__()\n",
    "\n",
    "        input_size = (2*context + 1) * 15 #Why is this the case? #375\n",
    "        output_size = 40 #Why?\n",
    "\n",
    "        self.model = torch.nn.Sequential(\n",
    "            torch.nn.Linear(input_size, 2048),\n",
    "            torch.nn.ReLU(),    \n",
    "            torch.nn.Dropout(dropout),\n",
    "            torch.nn.Linear(2048, 2048),\n",
    "            torch.nn.BatchNorm1d(2048),\n",
    "            torch.nn.ReLU(),\n",
    "            torch.nn.Dropout(dropout),\n",
    "            torch.nn.Linear(2048, 2048),\n",
    "            torch.nn.BatchNorm1d(2048),\n",
    "            torch.nn.ReLU(),\n",
    "            torch.nn.Dropout(dropout),\n",
    "            torch.nn.Linear(2048, 2048),\n",
    "            torch.nn.BatchNorm1d(2048),\n",
    "            torch.nn.ReLU(),\n",
    "            torch.nn.Dropout(dropout),\n",
    "            torch.nn.Linear(2048, 1024),\n",
    "            torch.nn.ReLU(),\n",
    "            torch.nn.Dropout(dropout),\n",
    "            torch.nn.Linear(1024, 512),\n",
    "            torch.nn.ReLU(),\n",
    "            torch.nn.Linear(512, output_size)\n",
    "        )      \n",
    "\n",
    "    def forward(self, x):\n",
    "        out = self.model(x)\n",
    "\n",
    "        return out"
   ]
  },
  {
   "cell_type": "markdown",
   "metadata": {
    "id": "HejoSXe3vMVU"
   },
   "source": [
    "# Define Model, Loss Function and Optimizer"
   ]
  },
  {
   "cell_type": "markdown",
   "metadata": {
    "id": "xAhGBH7-xxth"
   },
   "source": [
    "Here we define the model, loss function, optimizer and optionally a learning rate scheduler. "
   ]
  },
  {
   "cell_type": "code",
   "execution_count": 16,
   "metadata": {
    "id": "_qtrEM1ZvLje"
   },
   "outputs": [
    {
     "name": "stdout",
     "output_type": "stream",
     "text": [
      "=========================================================================\n",
      "                         Kernel Shape  Output Shape     Params  Mult-Adds\n",
      "Layer                                                                    \n",
      "0_model.Linear_0          [615, 2048]  [2048, 2048]  1.261568M   1.25952M\n",
      "1_model.ReLU_1                      -  [2048, 2048]          -          -\n",
      "2_model.Dropout_2                   -  [2048, 2048]          -          -\n",
      "3_model.Linear_3         [2048, 2048]  [2048, 2048]  4.196352M  4.194304M\n",
      "4_model.BatchNorm1d_4          [2048]  [2048, 2048]     4.096k     2.048k\n",
      "5_model.ReLU_5                      -  [2048, 2048]          -          -\n",
      "6_model.Dropout_6                   -  [2048, 2048]          -          -\n",
      "7_model.Linear_7         [2048, 2048]  [2048, 2048]  4.196352M  4.194304M\n",
      "8_model.BatchNorm1d_8          [2048]  [2048, 2048]     4.096k     2.048k\n",
      "9_model.ReLU_9                      -  [2048, 2048]          -          -\n",
      "10_model.Dropout_10                 -  [2048, 2048]          -          -\n",
      "11_model.Linear_11       [2048, 2048]  [2048, 2048]  4.196352M  4.194304M\n",
      "12_model.BatchNorm1d_12        [2048]  [2048, 2048]     4.096k     2.048k\n",
      "13_model.ReLU_13                    -  [2048, 2048]          -          -\n",
      "14_model.Dropout_14                 -  [2048, 2048]          -          -\n",
      "15_model.Linear_15       [2048, 1024]  [2048, 1024]  2.098176M  2.097152M\n",
      "16_model.ReLU_16                    -  [2048, 1024]          -          -\n",
      "17_model.Dropout_17                 -  [2048, 1024]          -          -\n",
      "18_model.Linear_18        [1024, 512]   [2048, 512]     524.8k   524.288k\n",
      "19_model.ReLU_19                    -   [2048, 512]          -          -\n",
      "20_model.Linear_20          [512, 40]    [2048, 40]     20.52k     20.48k\n",
      "-------------------------------------------------------------------------\n",
      "                          Totals\n",
      "Total params          16.506408M\n",
      "Trainable params      16.506408M\n",
      "Non-trainable params         0.0\n",
      "Mult-Adds             16.490496M\n",
      "=========================================================================\n"
     ]
    },
    {
     "name": "stderr",
     "output_type": "stream",
     "text": [
      "/home/jiin/anaconda3/envs/torch/lib/python3.9/site-packages/torchsummaryX/torchsummaryX.py:101: FutureWarning: Dropping of nuisance columns in DataFrame reductions (with 'numeric_only=None') is deprecated; in a future version this will raise TypeError.  Select only valid columns before calling the reduction.\n",
      "  df_sum = df.sum()\n"
     ]
    },
    {
     "data": {
      "text/html": [
       "<div>\n",
       "<style scoped>\n",
       "    .dataframe tbody tr th:only-of-type {\n",
       "        vertical-align: middle;\n",
       "    }\n",
       "\n",
       "    .dataframe tbody tr th {\n",
       "        vertical-align: top;\n",
       "    }\n",
       "\n",
       "    .dataframe thead th {\n",
       "        text-align: right;\n",
       "    }\n",
       "</style>\n",
       "<table border=\"1\" class=\"dataframe\">\n",
       "  <thead>\n",
       "    <tr style=\"text-align: right;\">\n",
       "      <th></th>\n",
       "      <th>Kernel Shape</th>\n",
       "      <th>Output Shape</th>\n",
       "      <th>Params</th>\n",
       "      <th>Mult-Adds</th>\n",
       "    </tr>\n",
       "    <tr>\n",
       "      <th>Layer</th>\n",
       "      <th></th>\n",
       "      <th></th>\n",
       "      <th></th>\n",
       "      <th></th>\n",
       "    </tr>\n",
       "  </thead>\n",
       "  <tbody>\n",
       "    <tr>\n",
       "      <th>0_model.Linear_0</th>\n",
       "      <td>[615, 2048]</td>\n",
       "      <td>[2048, 2048]</td>\n",
       "      <td>1261568.0</td>\n",
       "      <td>1259520.0</td>\n",
       "    </tr>\n",
       "    <tr>\n",
       "      <th>1_model.ReLU_1</th>\n",
       "      <td>-</td>\n",
       "      <td>[2048, 2048]</td>\n",
       "      <td>NaN</td>\n",
       "      <td>NaN</td>\n",
       "    </tr>\n",
       "    <tr>\n",
       "      <th>2_model.Dropout_2</th>\n",
       "      <td>-</td>\n",
       "      <td>[2048, 2048]</td>\n",
       "      <td>NaN</td>\n",
       "      <td>NaN</td>\n",
       "    </tr>\n",
       "    <tr>\n",
       "      <th>3_model.Linear_3</th>\n",
       "      <td>[2048, 2048]</td>\n",
       "      <td>[2048, 2048]</td>\n",
       "      <td>4196352.0</td>\n",
       "      <td>4194304.0</td>\n",
       "    </tr>\n",
       "    <tr>\n",
       "      <th>4_model.BatchNorm1d_4</th>\n",
       "      <td>[2048]</td>\n",
       "      <td>[2048, 2048]</td>\n",
       "      <td>4096.0</td>\n",
       "      <td>2048.0</td>\n",
       "    </tr>\n",
       "    <tr>\n",
       "      <th>5_model.ReLU_5</th>\n",
       "      <td>-</td>\n",
       "      <td>[2048, 2048]</td>\n",
       "      <td>NaN</td>\n",
       "      <td>NaN</td>\n",
       "    </tr>\n",
       "    <tr>\n",
       "      <th>6_model.Dropout_6</th>\n",
       "      <td>-</td>\n",
       "      <td>[2048, 2048]</td>\n",
       "      <td>NaN</td>\n",
       "      <td>NaN</td>\n",
       "    </tr>\n",
       "    <tr>\n",
       "      <th>7_model.Linear_7</th>\n",
       "      <td>[2048, 2048]</td>\n",
       "      <td>[2048, 2048]</td>\n",
       "      <td>4196352.0</td>\n",
       "      <td>4194304.0</td>\n",
       "    </tr>\n",
       "    <tr>\n",
       "      <th>8_model.BatchNorm1d_8</th>\n",
       "      <td>[2048]</td>\n",
       "      <td>[2048, 2048]</td>\n",
       "      <td>4096.0</td>\n",
       "      <td>2048.0</td>\n",
       "    </tr>\n",
       "    <tr>\n",
       "      <th>9_model.ReLU_9</th>\n",
       "      <td>-</td>\n",
       "      <td>[2048, 2048]</td>\n",
       "      <td>NaN</td>\n",
       "      <td>NaN</td>\n",
       "    </tr>\n",
       "    <tr>\n",
       "      <th>10_model.Dropout_10</th>\n",
       "      <td>-</td>\n",
       "      <td>[2048, 2048]</td>\n",
       "      <td>NaN</td>\n",
       "      <td>NaN</td>\n",
       "    </tr>\n",
       "    <tr>\n",
       "      <th>11_model.Linear_11</th>\n",
       "      <td>[2048, 2048]</td>\n",
       "      <td>[2048, 2048]</td>\n",
       "      <td>4196352.0</td>\n",
       "      <td>4194304.0</td>\n",
       "    </tr>\n",
       "    <tr>\n",
       "      <th>12_model.BatchNorm1d_12</th>\n",
       "      <td>[2048]</td>\n",
       "      <td>[2048, 2048]</td>\n",
       "      <td>4096.0</td>\n",
       "      <td>2048.0</td>\n",
       "    </tr>\n",
       "    <tr>\n",
       "      <th>13_model.ReLU_13</th>\n",
       "      <td>-</td>\n",
       "      <td>[2048, 2048]</td>\n",
       "      <td>NaN</td>\n",
       "      <td>NaN</td>\n",
       "    </tr>\n",
       "    <tr>\n",
       "      <th>14_model.Dropout_14</th>\n",
       "      <td>-</td>\n",
       "      <td>[2048, 2048]</td>\n",
       "      <td>NaN</td>\n",
       "      <td>NaN</td>\n",
       "    </tr>\n",
       "    <tr>\n",
       "      <th>15_model.Linear_15</th>\n",
       "      <td>[2048, 1024]</td>\n",
       "      <td>[2048, 1024]</td>\n",
       "      <td>2098176.0</td>\n",
       "      <td>2097152.0</td>\n",
       "    </tr>\n",
       "    <tr>\n",
       "      <th>16_model.ReLU_16</th>\n",
       "      <td>-</td>\n",
       "      <td>[2048, 1024]</td>\n",
       "      <td>NaN</td>\n",
       "      <td>NaN</td>\n",
       "    </tr>\n",
       "    <tr>\n",
       "      <th>17_model.Dropout_17</th>\n",
       "      <td>-</td>\n",
       "      <td>[2048, 1024]</td>\n",
       "      <td>NaN</td>\n",
       "      <td>NaN</td>\n",
       "    </tr>\n",
       "    <tr>\n",
       "      <th>18_model.Linear_18</th>\n",
       "      <td>[1024, 512]</td>\n",
       "      <td>[2048, 512]</td>\n",
       "      <td>524800.0</td>\n",
       "      <td>524288.0</td>\n",
       "    </tr>\n",
       "    <tr>\n",
       "      <th>19_model.ReLU_19</th>\n",
       "      <td>-</td>\n",
       "      <td>[2048, 512]</td>\n",
       "      <td>NaN</td>\n",
       "      <td>NaN</td>\n",
       "    </tr>\n",
       "    <tr>\n",
       "      <th>20_model.Linear_20</th>\n",
       "      <td>[512, 40]</td>\n",
       "      <td>[2048, 40]</td>\n",
       "      <td>20520.0</td>\n",
       "      <td>20480.0</td>\n",
       "    </tr>\n",
       "  </tbody>\n",
       "</table>\n",
       "</div>"
      ],
      "text/plain": [
       "                         Kernel Shape  Output Shape     Params  Mult-Adds\n",
       "Layer                                                                    \n",
       "0_model.Linear_0          [615, 2048]  [2048, 2048]  1261568.0  1259520.0\n",
       "1_model.ReLU_1                      -  [2048, 2048]        NaN        NaN\n",
       "2_model.Dropout_2                   -  [2048, 2048]        NaN        NaN\n",
       "3_model.Linear_3         [2048, 2048]  [2048, 2048]  4196352.0  4194304.0\n",
       "4_model.BatchNorm1d_4          [2048]  [2048, 2048]     4096.0     2048.0\n",
       "5_model.ReLU_5                      -  [2048, 2048]        NaN        NaN\n",
       "6_model.Dropout_6                   -  [2048, 2048]        NaN        NaN\n",
       "7_model.Linear_7         [2048, 2048]  [2048, 2048]  4196352.0  4194304.0\n",
       "8_model.BatchNorm1d_8          [2048]  [2048, 2048]     4096.0     2048.0\n",
       "9_model.ReLU_9                      -  [2048, 2048]        NaN        NaN\n",
       "10_model.Dropout_10                 -  [2048, 2048]        NaN        NaN\n",
       "11_model.Linear_11       [2048, 2048]  [2048, 2048]  4196352.0  4194304.0\n",
       "12_model.BatchNorm1d_12        [2048]  [2048, 2048]     4096.0     2048.0\n",
       "13_model.ReLU_13                    -  [2048, 2048]        NaN        NaN\n",
       "14_model.Dropout_14                 -  [2048, 2048]        NaN        NaN\n",
       "15_model.Linear_15       [2048, 1024]  [2048, 1024]  2098176.0  2097152.0\n",
       "16_model.ReLU_16                    -  [2048, 1024]        NaN        NaN\n",
       "17_model.Dropout_17                 -  [2048, 1024]        NaN        NaN\n",
       "18_model.Linear_18        [1024, 512]   [2048, 512]   524800.0   524288.0\n",
       "19_model.ReLU_19                    -   [2048, 512]        NaN        NaN\n",
       "20_model.Linear_20          [512, 40]    [2048, 40]    20520.0    20480.0"
      ]
     },
     "execution_count": 16,
     "metadata": {},
     "output_type": "execute_result"
    }
   ],
   "source": [
    "input_size = 15*(2*config['context'] + 1)\n",
    "model = Network(config['context'], config['dropout']).to(device)\n",
    "frames,phoneme = next(iter(train_loader))\n",
    "# Check number of parameters of your network - Remember, you are limited to 20 million parameters for HW1 (including ensembles)\n",
    "summary(model, frames.to(device))"
   ]
  },
  {
   "cell_type": "code",
   "execution_count": 17,
   "metadata": {
    "id": "UROGEVJevKD-"
   },
   "outputs": [],
   "source": [
    "criterion = torch.nn.CrossEntropyLoss() #Defining Loss function \n",
    "optimizer = torch.optim.AdamW(model.parameters(), lr=config['learning_rate'], weight_decay=config['weight_decay']) #Defining Optimizer\n",
    "scheduler = torch.optim.lr_scheduler.CosineAnnealingLR(optimizer, T_max=config['epochs'], eta_min=0)\n",
    "\n",
    "# Recommended : Define Scheduler for Learning Rate, including but not limited to StepLR, MultiStepLR, CosineAnnealingLR, ReduceLROnPlateau, etc. \n",
    "# You can refer to Pytorch documentation for more information on how to use them."
   ]
  },
  {
   "cell_type": "markdown",
   "metadata": {
    "id": "IBwunYpyugFg"
   },
   "source": [
    "# Training and Validation Functions"
   ]
  },
  {
   "cell_type": "markdown",
   "metadata": {
    "id": "1JgeNhx4x2-P"
   },
   "source": [
    "This section covers the training, and validation functions for each epoch of running your experiment with a given model architecture. The code has been provided to you, but we recommend going through the comments to understand the workflow to enable you to write these loops for future HWs."
   ]
  },
  {
   "cell_type": "code",
   "execution_count": 18,
   "metadata": {
    "colab": {
     "base_uri": "https://localhost:8080/"
    },
    "id": "XblOHEVtKab2",
    "outputId": "e7a3c98e-8429-46a4-f348-ac4e21bd03ae"
   },
   "outputs": [
    {
     "data": {
      "text/plain": [
       "9"
      ]
     },
     "execution_count": 18,
     "metadata": {},
     "output_type": "execute_result"
    }
   ],
   "source": [
    "torch.cuda.empty_cache()\n",
    "gc.collect()"
   ]
  },
  {
   "cell_type": "code",
   "execution_count": 19,
   "metadata": {
    "id": "8wjPz7DHqKcL"
   },
   "outputs": [],
   "source": [
    "def train(model, optimizer, criterion, scheduler, dataloader):\n",
    "\n",
    "    model.train()\n",
    "    train_loss = 0.0 #Monitoring Loss\n",
    "    \n",
    "    for iter, (mfccs, phonemes) in tqdm(enumerate(dataloader)):\n",
    "\n",
    "        ### Move Data to Device (Ideally GPU)\n",
    "        mfccs = mfccs.to(device)\n",
    "        phonemes = phonemes.to(device)\n",
    "\n",
    "        ### Forward Propagation\n",
    "        logits = model(mfccs)\n",
    "\n",
    "        ### Loss Calculation\n",
    "        loss = criterion(logits, phonemes)\n",
    "        train_loss += loss.item()\n",
    "\n",
    "        ### Initialize Gradients\n",
    "        optimizer.zero_grad()\n",
    "\n",
    "        ### Backward Propagation\n",
    "        loss.backward()\n",
    "\n",
    "        ### Gradient Descent\n",
    "        optimizer.step()\n",
    "    ### update scheduler\n",
    "    scheduler.step()\n",
    "        \n",
    "    train_loss /= len(dataloader)\n",
    "    return train_loss"
   ]
  },
  {
   "cell_type": "code",
   "execution_count": 20,
   "metadata": {
    "id": "Q5npQNFH315V"
   },
   "outputs": [],
   "source": [
    "def eval(model, dataloader):\n",
    "\n",
    "    model.eval() # set model in evaluation mode\n",
    "    val_loss = 0.0\n",
    "\n",
    "    phone_true_list = []\n",
    "    phone_pred_list = []\n",
    "\n",
    "    for i, data in enumerate(dataloader):\n",
    "\n",
    "        frames, phonemes = data\n",
    "        ### Move data to device (ideally GPU)\n",
    "        frames, phonemes = frames.to(device), phonemes.to(device) \n",
    "\n",
    "        with torch.inference_mode(): # makes sure that there are no gradients computed as we are not training the model now\n",
    "            ### Forward Propagation\n",
    "            logits = model(frames)\n",
    "            loss = criterion(logits, phonemes)\n",
    "            val_loss += loss.item()\n",
    "\n",
    "        ### Get Predictions\n",
    "        predicted_phonemes = torch.argmax(logits, dim=1)\n",
    "        \n",
    "        ### Store Pred and True Labels\n",
    "        phone_pred_list.extend(predicted_phonemes.cpu().tolist())\n",
    "        phone_true_list.extend(phonemes.cpu().tolist())\n",
    "        \n",
    "        # Do you think we need loss.backward() and optimizer.step() here?\n",
    "    \n",
    "        del frames, phonemes, logits\n",
    "        torch.cuda.empty_cache()\n",
    "\n",
    "    ### Calculate Accuracy\n",
    "    accuracy = sklearn.metrics.accuracy_score(phone_pred_list, phone_true_list)\n",
    "    val_loss /= len(dataloader)\n",
    "    return accuracy*100, val_loss"
   ]
  },
  {
   "cell_type": "markdown",
   "metadata": {
    "id": "yMd_XxPku5qp"
   },
   "source": [
    "# Weights and Biases Setup"
   ]
  },
  {
   "cell_type": "markdown",
   "metadata": {
    "id": "tjIbhR1wwbgI"
   },
   "source": [
    "This section is to enable logging metrics and files with Weights and Biases. Please refer to wandb documentationa and recitation 0 that covers the use of weights and biases for logging, hyperparameter tuning and monitoring your runs for your homeworks. Using this tool makes it very easy to show results when submitting your code and models for homeworks, and also extremely useful for study groups to organize and run ablations under a single team in wandb. \n",
    "\n",
    "We have written code for you to make use of it out of the box, so that you start using wandb for all your HWs from the beginning."
   ]
  },
  {
   "cell_type": "code",
   "execution_count": 21,
   "metadata": {
    "id": "SCDYx5VEu6qI"
   },
   "outputs": [
    {
     "name": "stderr",
     "output_type": "stream",
     "text": [
      "Failed to detect the name of this notebook, you can set it manually with the WANDB_NOTEBOOK_NAME environment variable to enable code saving.\n",
      "\u001b[34m\u001b[1mwandb\u001b[0m: Currently logged in as: \u001b[33mjiin\u001b[0m. Use \u001b[1m`wandb login --relogin`\u001b[0m to force relogin\n",
      "\u001b[34m\u001b[1mwandb\u001b[0m: \u001b[33mWARNING\u001b[0m If you're specifying your api key in code, ensure this code is not shared publicly.\n",
      "\u001b[34m\u001b[1mwandb\u001b[0m: \u001b[33mWARNING\u001b[0m Consider setting the WANDB_API_KEY environment variable, or running `wandb login` from the command line.\n",
      "\u001b[34m\u001b[1mwandb\u001b[0m: Appending key for api.wandb.ai to your netrc file: /home/jiin/.netrc\n"
     ]
    },
    {
     "data": {
      "text/plain": [
       "True"
      ]
     },
     "execution_count": 21,
     "metadata": {},
     "output_type": "execute_result"
    }
   ],
   "source": [
    "wandb.login(key=\" \") #API Key is in your wandb account, under settings (wandb.ai/settings)"
   ]
  },
  {
   "cell_type": "code",
   "execution_count": 22,
   "metadata": {
    "id": "xvUnYd3Bw2up"
   },
   "outputs": [
    {
     "data": {
      "text/html": [
       "wandb version 0.13.3 is available!  To upgrade, please run:\n",
       " $ pip install wandb --upgrade"
      ],
      "text/plain": [
       "<IPython.core.display.HTML object>"
      ]
     },
     "metadata": {},
     "output_type": "display_data"
    },
    {
     "data": {
      "text/html": [
       "Tracking run with wandb version 0.12.21"
      ],
      "text/plain": [
       "<IPython.core.display.HTML object>"
      ]
     },
     "metadata": {},
     "output_type": "display_data"
    },
    {
     "data": {
      "text/html": [
       "Run data is saved locally in <code>/media/usr/SSD/jiin/CMU/IDL/HW1/wandb/run-20220930_033518-rfq5ks30</code>"
      ],
      "text/plain": [
       "<IPython.core.display.HTML object>"
      ]
     },
     "metadata": {},
     "output_type": "display_data"
    },
    {
     "data": {
      "text/html": [
       "Syncing run <strong><a href=\"https://wandb.ai/jiin/hw1p2/runs/rfq5ks30\" target=\"_blank\">exp_structure_v2</a></strong> to <a href=\"https://wandb.ai/jiin/hw1p2\" target=\"_blank\">Weights & Biases</a> (<a href=\"https://wandb.me/run\" target=\"_blank\">docs</a>)<br/>"
      ],
      "text/plain": [
       "<IPython.core.display.HTML object>"
      ]
     },
     "metadata": {},
     "output_type": "display_data"
    }
   ],
   "source": [
    "# Create your wandb run\n",
    "run = wandb.init(\n",
    "    name = \"exp_structure_v2\", ### Wandb creates random run names if you skip this field, we recommend you give useful names\n",
    "    reinit=True, ### Allows reinitalizing runs when you re-run this cell\n",
    "    project=\"hw1p2\", ### Project should be created in your wandb account \n",
    "    config=config ### Wandb Config for your run\n",
    ")"
   ]
  },
  {
   "cell_type": "code",
   "execution_count": 23,
   "metadata": {
    "id": "wft15E_IxYFi"
   },
   "outputs": [
    {
     "data": {
      "text/plain": [
       "['/media/usr/SSD/jiin/CMU/IDL/HW1/wandb/run-20220930_033518-rfq5ks30/files/model_arch.txt']"
      ]
     },
     "execution_count": 23,
     "metadata": {},
     "output_type": "execute_result"
    }
   ],
   "source": [
    "### Save your model architecture as a string with str(model) \n",
    "model_arch = str(model)\n",
    "\n",
    "### Save it in a txt file \n",
    "arch_file = open(\"model_arch.txt\", \"w\")\n",
    "file_write = arch_file.write(model_arch)\n",
    "arch_file.close()\n",
    "\n",
    "### log it in your wandb run with wandb.save()\n",
    "wandb.save('model_arch.txt')"
   ]
  },
  {
   "cell_type": "markdown",
   "metadata": {
    "id": "nclx_04fu7Dd"
   },
   "source": [
    "# Experiment"
   ]
  },
  {
   "cell_type": "markdown",
   "metadata": {
    "id": "MdLMWfEpyGOB"
   },
   "source": [
    "Now, it is time to finally run your ablations! Have fun!"
   ]
  },
  {
   "cell_type": "code",
   "execution_count": 24,
   "metadata": {},
   "outputs": [],
   "source": [
    "# from pandas_profiling import ProfileReport\n",
    "from ipywidgets import FloatProgress"
   ]
  },
  {
   "cell_type": "code",
   "execution_count": 25,
   "metadata": {
    "id": "MG4F77Nm0Am9",
    "tags": []
   },
   "outputs": [
    {
     "name": "stdout",
     "output_type": "stream",
     "text": [
      "\n",
      "Epoch 1/50\n"
     ]
    },
    {
     "data": {
      "application/vnd.jupyter.widget-view+json": {
       "model_id": "a64b159aa5314addbe37e1b4d1448900",
       "version_major": 2,
       "version_minor": 0
      },
      "text/plain": [
       "0it [00:00, ?it/s]"
      ]
     },
     "metadata": {},
     "output_type": "display_data"
    },
    {
     "name": "stdout",
     "output_type": "stream",
     "text": [
      "\tTrain Loss: 0.8517\n",
      "\tValidation Accuracy: 78.16%\n",
      "\n",
      "Epoch 2/50\n"
     ]
    },
    {
     "data": {
      "application/vnd.jupyter.widget-view+json": {
       "model_id": "f8fedaff553f4d9b8010a544fefa2ba9",
       "version_major": 2,
       "version_minor": 0
      },
      "text/plain": [
       "0it [00:00, ?it/s]"
      ]
     },
     "metadata": {},
     "output_type": "display_data"
    },
    {
     "name": "stdout",
     "output_type": "stream",
     "text": [
      "\tTrain Loss: 0.6885\n",
      "\tValidation Accuracy: 80.22%\n",
      "\n",
      "Epoch 3/50\n"
     ]
    },
    {
     "data": {
      "application/vnd.jupyter.widget-view+json": {
       "model_id": "3e7e19f7e08a4f52b5317d26b43125f7",
       "version_major": 2,
       "version_minor": 0
      },
      "text/plain": [
       "0it [00:00, ?it/s]"
      ]
     },
     "metadata": {},
     "output_type": "display_data"
    },
    {
     "name": "stdout",
     "output_type": "stream",
     "text": [
      "\tTrain Loss: 0.6420\n",
      "\tValidation Accuracy: 81.07%\n",
      "\n",
      "Epoch 4/50\n"
     ]
    },
    {
     "data": {
      "application/vnd.jupyter.widget-view+json": {
       "model_id": "dc86694c34184c66aec7b7c0cf357abb",
       "version_major": 2,
       "version_minor": 0
      },
      "text/plain": [
       "0it [00:00, ?it/s]"
      ]
     },
     "metadata": {},
     "output_type": "display_data"
    },
    {
     "name": "stdout",
     "output_type": "stream",
     "text": [
      "\tTrain Loss: 0.6140\n",
      "\tValidation Accuracy: 81.65%\n",
      "\n",
      "Epoch 5/50\n"
     ]
    },
    {
     "data": {
      "application/vnd.jupyter.widget-view+json": {
       "model_id": "259eb6665c344e8d8b8c5aba6ece4d63",
       "version_major": 2,
       "version_minor": 0
      },
      "text/plain": [
       "0it [00:00, ?it/s]"
      ]
     },
     "metadata": {},
     "output_type": "display_data"
    },
    {
     "name": "stdout",
     "output_type": "stream",
     "text": [
      "\tTrain Loss: 0.5938\n",
      "\tValidation Accuracy: 82.07%\n",
      "\n",
      "Epoch 6/50\n"
     ]
    },
    {
     "data": {
      "application/vnd.jupyter.widget-view+json": {
       "model_id": "80f50db8bcad4d72af95254043e3d8f7",
       "version_major": 2,
       "version_minor": 0
      },
      "text/plain": [
       "0it [00:00, ?it/s]"
      ]
     },
     "metadata": {},
     "output_type": "display_data"
    },
    {
     "name": "stdout",
     "output_type": "stream",
     "text": [
      "\tTrain Loss: 0.5785\n",
      "\tValidation Accuracy: 82.29%\n",
      "\n",
      "Epoch 7/50\n"
     ]
    },
    {
     "data": {
      "application/vnd.jupyter.widget-view+json": {
       "model_id": "05d6e809cfa440fa91ab036558236d80",
       "version_major": 2,
       "version_minor": 0
      },
      "text/plain": [
       "0it [00:00, ?it/s]"
      ]
     },
     "metadata": {},
     "output_type": "display_data"
    },
    {
     "name": "stdout",
     "output_type": "stream",
     "text": [
      "\tTrain Loss: 0.5659\n",
      "\tValidation Accuracy: 82.61%\n",
      "\n",
      "Epoch 8/50\n"
     ]
    },
    {
     "data": {
      "application/vnd.jupyter.widget-view+json": {
       "model_id": "9b687a35575a4676a2b0083cecba2918",
       "version_major": 2,
       "version_minor": 0
      },
      "text/plain": [
       "0it [00:00, ?it/s]"
      ]
     },
     "metadata": {},
     "output_type": "display_data"
    },
    {
     "name": "stdout",
     "output_type": "stream",
     "text": [
      "\tTrain Loss: 0.5552\n",
      "\tValidation Accuracy: 82.87%\n",
      "\n",
      "Epoch 9/50\n"
     ]
    },
    {
     "data": {
      "application/vnd.jupyter.widget-view+json": {
       "model_id": "68ffc07d6710470a86838c03810cb698",
       "version_major": 2,
       "version_minor": 0
      },
      "text/plain": [
       "0it [00:00, ?it/s]"
      ]
     },
     "metadata": {},
     "output_type": "display_data"
    },
    {
     "name": "stdout",
     "output_type": "stream",
     "text": [
      "\tTrain Loss: 0.5463\n",
      "\tValidation Accuracy: 82.91%\n",
      "\n",
      "Epoch 10/50\n"
     ]
    },
    {
     "data": {
      "application/vnd.jupyter.widget-view+json": {
       "model_id": "35282b8a3ed849a1967524eb4a40c881",
       "version_major": 2,
       "version_minor": 0
      },
      "text/plain": [
       "0it [00:00, ?it/s]"
      ]
     },
     "metadata": {},
     "output_type": "display_data"
    },
    {
     "name": "stdout",
     "output_type": "stream",
     "text": [
      "\tTrain Loss: 0.5385\n",
      "\tValidation Accuracy: 83.18%\n",
      "\n",
      "Epoch 11/50\n"
     ]
    },
    {
     "data": {
      "application/vnd.jupyter.widget-view+json": {
       "model_id": "788ebeea047c4a4596eb561520a6d8e8",
       "version_major": 2,
       "version_minor": 0
      },
      "text/plain": [
       "0it [00:00, ?it/s]"
      ]
     },
     "metadata": {},
     "output_type": "display_data"
    },
    {
     "name": "stdout",
     "output_type": "stream",
     "text": [
      "\tTrain Loss: 0.5317\n",
      "\tValidation Accuracy: 83.31%\n",
      "\n",
      "Epoch 12/50\n"
     ]
    },
    {
     "data": {
      "application/vnd.jupyter.widget-view+json": {
       "model_id": "44838292fbb34233bf6420e419698992",
       "version_major": 2,
       "version_minor": 0
      },
      "text/plain": [
       "0it [00:00, ?it/s]"
      ]
     },
     "metadata": {},
     "output_type": "display_data"
    },
    {
     "name": "stdout",
     "output_type": "stream",
     "text": [
      "\tTrain Loss: 0.5255\n",
      "\tValidation Accuracy: 83.35%\n",
      "\n",
      "Epoch 13/50\n"
     ]
    },
    {
     "data": {
      "application/vnd.jupyter.widget-view+json": {
       "model_id": "645fff48c39c43d0ac0b1ea2d763d166",
       "version_major": 2,
       "version_minor": 0
      },
      "text/plain": [
       "0it [00:00, ?it/s]"
      ]
     },
     "metadata": {},
     "output_type": "display_data"
    },
    {
     "name": "stdout",
     "output_type": "stream",
     "text": [
      "\tTrain Loss: 0.5201\n",
      "\tValidation Accuracy: 83.44%\n",
      "\n",
      "Epoch 14/50\n"
     ]
    },
    {
     "data": {
      "application/vnd.jupyter.widget-view+json": {
       "model_id": "39209245b0e14af89d9d04b9663d7eff",
       "version_major": 2,
       "version_minor": 0
      },
      "text/plain": [
       "0it [00:00, ?it/s]"
      ]
     },
     "metadata": {},
     "output_type": "display_data"
    },
    {
     "name": "stdout",
     "output_type": "stream",
     "text": [
      "\tTrain Loss: 0.5151\n",
      "\tValidation Accuracy: 83.55%\n",
      "\n",
      "Epoch 15/50\n"
     ]
    },
    {
     "data": {
      "application/vnd.jupyter.widget-view+json": {
       "model_id": "9e98caf60421446ab0a6d0db2ab2689e",
       "version_major": 2,
       "version_minor": 0
      },
      "text/plain": [
       "0it [00:00, ?it/s]"
      ]
     },
     "metadata": {},
     "output_type": "display_data"
    },
    {
     "name": "stdout",
     "output_type": "stream",
     "text": [
      "\tTrain Loss: 0.5104\n",
      "\tValidation Accuracy: 83.66%\n",
      "\n",
      "Epoch 16/50\n"
     ]
    },
    {
     "data": {
      "application/vnd.jupyter.widget-view+json": {
       "model_id": "9e114fb7377a43ba860225766d93fde2",
       "version_major": 2,
       "version_minor": 0
      },
      "text/plain": [
       "0it [00:00, ?it/s]"
      ]
     },
     "metadata": {},
     "output_type": "display_data"
    },
    {
     "name": "stdout",
     "output_type": "stream",
     "text": [
      "\tTrain Loss: 0.5061\n",
      "\tValidation Accuracy: 83.77%\n",
      "\n",
      "Epoch 17/50\n"
     ]
    },
    {
     "data": {
      "application/vnd.jupyter.widget-view+json": {
       "model_id": "e79a06dcca9f4398b0c8a9fca6afb3c9",
       "version_major": 2,
       "version_minor": 0
      },
      "text/plain": [
       "0it [00:00, ?it/s]"
      ]
     },
     "metadata": {},
     "output_type": "display_data"
    },
    {
     "name": "stdout",
     "output_type": "stream",
     "text": [
      "\tTrain Loss: 0.5018\n",
      "\tValidation Accuracy: 83.83%\n",
      "\n",
      "Epoch 18/50\n"
     ]
    },
    {
     "data": {
      "application/vnd.jupyter.widget-view+json": {
       "model_id": "7638057b631e48ff9310e63c89f925cf",
       "version_major": 2,
       "version_minor": 0
      },
      "text/plain": [
       "0it [00:00, ?it/s]"
      ]
     },
     "metadata": {},
     "output_type": "display_data"
    },
    {
     "name": "stdout",
     "output_type": "stream",
     "text": [
      "\tTrain Loss: 0.4981\n",
      "\tValidation Accuracy: 83.85%\n",
      "\n",
      "Epoch 19/50\n"
     ]
    },
    {
     "data": {
      "application/vnd.jupyter.widget-view+json": {
       "model_id": "565d42600970497382e1e609c7441e11",
       "version_major": 2,
       "version_minor": 0
      },
      "text/plain": [
       "0it [00:00, ?it/s]"
      ]
     },
     "metadata": {},
     "output_type": "display_data"
    },
    {
     "name": "stdout",
     "output_type": "stream",
     "text": [
      "\tTrain Loss: 0.4945\n",
      "\tValidation Accuracy: 83.94%\n",
      "\n",
      "Epoch 20/50\n"
     ]
    },
    {
     "data": {
      "application/vnd.jupyter.widget-view+json": {
       "model_id": "668654aab5a54cf68292414974c61b7c",
       "version_major": 2,
       "version_minor": 0
      },
      "text/plain": [
       "0it [00:00, ?it/s]"
      ]
     },
     "metadata": {},
     "output_type": "display_data"
    },
    {
     "name": "stdout",
     "output_type": "stream",
     "text": [
      "\tTrain Loss: 0.4908\n",
      "\tValidation Accuracy: 83.98%\n",
      "\n",
      "Epoch 21/50\n"
     ]
    },
    {
     "data": {
      "application/vnd.jupyter.widget-view+json": {
       "model_id": "918182def14f425fabba7b7f38cc2ae2",
       "version_major": 2,
       "version_minor": 0
      },
      "text/plain": [
       "0it [00:00, ?it/s]"
      ]
     },
     "metadata": {},
     "output_type": "display_data"
    },
    {
     "name": "stdout",
     "output_type": "stream",
     "text": [
      "\tTrain Loss: 0.4874\n",
      "\tValidation Accuracy: 84.11%\n",
      "\n",
      "Epoch 22/50\n"
     ]
    },
    {
     "data": {
      "application/vnd.jupyter.widget-view+json": {
       "model_id": "809fe12495274d6aa65ec08f363827df",
       "version_major": 2,
       "version_minor": 0
      },
      "text/plain": [
       "0it [00:00, ?it/s]"
      ]
     },
     "metadata": {},
     "output_type": "display_data"
    },
    {
     "name": "stdout",
     "output_type": "stream",
     "text": [
      "\tTrain Loss: 0.4843\n",
      "\tValidation Accuracy: 84.15%\n",
      "\n",
      "Epoch 23/50\n"
     ]
    },
    {
     "data": {
      "application/vnd.jupyter.widget-view+json": {
       "model_id": "1f66a49235aa40cd94c14edf3f801b6b",
       "version_major": 2,
       "version_minor": 0
      },
      "text/plain": [
       "0it [00:00, ?it/s]"
      ]
     },
     "metadata": {},
     "output_type": "display_data"
    },
    {
     "name": "stdout",
     "output_type": "stream",
     "text": [
      "\tTrain Loss: 0.4809\n",
      "\tValidation Accuracy: 84.17%\n",
      "\n",
      "Epoch 24/50\n"
     ]
    },
    {
     "data": {
      "application/vnd.jupyter.widget-view+json": {
       "model_id": "ee4733f33a4d403b8948732be72fb5b6",
       "version_major": 2,
       "version_minor": 0
      },
      "text/plain": [
       "0it [00:00, ?it/s]"
      ]
     },
     "metadata": {},
     "output_type": "display_data"
    },
    {
     "name": "stdout",
     "output_type": "stream",
     "text": [
      "\tTrain Loss: 0.4780\n",
      "\tValidation Accuracy: 84.26%\n",
      "\n",
      "Epoch 25/50\n"
     ]
    },
    {
     "data": {
      "application/vnd.jupyter.widget-view+json": {
       "model_id": "6066a969637d47dea8eda58894566da6",
       "version_major": 2,
       "version_minor": 0
      },
      "text/plain": [
       "0it [00:00, ?it/s]"
      ]
     },
     "metadata": {},
     "output_type": "display_data"
    },
    {
     "name": "stdout",
     "output_type": "stream",
     "text": [
      "\tTrain Loss: 0.4754\n",
      "\tValidation Accuracy: 84.27%\n",
      "\n",
      "Epoch 26/50\n"
     ]
    },
    {
     "data": {
      "application/vnd.jupyter.widget-view+json": {
       "model_id": "09767c0f6fbb48e7944287b25509048f",
       "version_major": 2,
       "version_minor": 0
      },
      "text/plain": [
       "0it [00:00, ?it/s]"
      ]
     },
     "metadata": {},
     "output_type": "display_data"
    },
    {
     "name": "stdout",
     "output_type": "stream",
     "text": [
      "\tTrain Loss: 0.4725\n",
      "\tValidation Accuracy: 84.30%\n",
      "\n",
      "Epoch 27/50\n"
     ]
    },
    {
     "data": {
      "application/vnd.jupyter.widget-view+json": {
       "model_id": "bee93295927c4f30961206ceb9ab3a25",
       "version_major": 2,
       "version_minor": 0
      },
      "text/plain": [
       "0it [00:00, ?it/s]"
      ]
     },
     "metadata": {},
     "output_type": "display_data"
    },
    {
     "name": "stdout",
     "output_type": "stream",
     "text": [
      "\tTrain Loss: 0.4699\n",
      "\tValidation Accuracy: 84.33%\n",
      "\n",
      "Epoch 28/50\n"
     ]
    },
    {
     "data": {
      "application/vnd.jupyter.widget-view+json": {
       "model_id": "620fb3c3d5404c02bce6e80933629795",
       "version_major": 2,
       "version_minor": 0
      },
      "text/plain": [
       "0it [00:00, ?it/s]"
      ]
     },
     "metadata": {},
     "output_type": "display_data"
    },
    {
     "name": "stdout",
     "output_type": "stream",
     "text": [
      "\tTrain Loss: 0.4672\n",
      "\tValidation Accuracy: 84.36%\n",
      "\n",
      "Epoch 29/50\n"
     ]
    },
    {
     "data": {
      "application/vnd.jupyter.widget-view+json": {
       "model_id": "a0f92525151b4f8ea581215e17545bd7",
       "version_major": 2,
       "version_minor": 0
      },
      "text/plain": [
       "0it [00:01, ?it/s]"
      ]
     },
     "metadata": {},
     "output_type": "display_data"
    },
    {
     "name": "stdout",
     "output_type": "stream",
     "text": [
      "\tTrain Loss: 0.4648\n",
      "\tValidation Accuracy: 84.39%\n",
      "\n",
      "Epoch 30/50\n"
     ]
    },
    {
     "data": {
      "application/vnd.jupyter.widget-view+json": {
       "model_id": "e58b12445d7b4f29bcfc5dc5af6267b5",
       "version_major": 2,
       "version_minor": 0
      },
      "text/plain": [
       "0it [00:00, ?it/s]"
      ]
     },
     "metadata": {},
     "output_type": "display_data"
    },
    {
     "name": "stdout",
     "output_type": "stream",
     "text": [
      "\tTrain Loss: 0.4624\n",
      "\tValidation Accuracy: 84.44%\n",
      "\n",
      "Epoch 31/50\n"
     ]
    },
    {
     "data": {
      "application/vnd.jupyter.widget-view+json": {
       "model_id": "8ea3fe1aef1c4fb18f5f4ca3436ef13a",
       "version_major": 2,
       "version_minor": 0
      },
      "text/plain": [
       "0it [00:00, ?it/s]"
      ]
     },
     "metadata": {},
     "output_type": "display_data"
    },
    {
     "name": "stdout",
     "output_type": "stream",
     "text": [
      "\tTrain Loss: 0.4602\n",
      "\tValidation Accuracy: 84.49%\n",
      "\n",
      "Epoch 32/50\n"
     ]
    },
    {
     "data": {
      "application/vnd.jupyter.widget-view+json": {
       "model_id": "eb04055f890b44948badcdb8336b1230",
       "version_major": 2,
       "version_minor": 0
      },
      "text/plain": [
       "0it [00:00, ?it/s]"
      ]
     },
     "metadata": {},
     "output_type": "display_data"
    },
    {
     "name": "stdout",
     "output_type": "stream",
     "text": [
      "\tTrain Loss: 0.4580\n",
      "\tValidation Accuracy: 84.54%\n",
      "\n",
      "Epoch 33/50\n"
     ]
    },
    {
     "data": {
      "application/vnd.jupyter.widget-view+json": {
       "model_id": "91006d6c751f407998b4d075fd2ba047",
       "version_major": 2,
       "version_minor": 0
      },
      "text/plain": [
       "0it [00:00, ?it/s]"
      ]
     },
     "metadata": {},
     "output_type": "display_data"
    },
    {
     "name": "stdout",
     "output_type": "stream",
     "text": [
      "\tTrain Loss: 0.4560\n",
      "\tValidation Accuracy: 84.52%\n",
      "\n",
      "Epoch 34/50\n"
     ]
    },
    {
     "data": {
      "application/vnd.jupyter.widget-view+json": {
       "model_id": "d53850cff87447e4a0650f18ae7f53b3",
       "version_major": 2,
       "version_minor": 0
      },
      "text/plain": [
       "0it [00:00, ?it/s]"
      ]
     },
     "metadata": {},
     "output_type": "display_data"
    },
    {
     "name": "stdout",
     "output_type": "stream",
     "text": [
      "\tTrain Loss: 0.4541\n",
      "\tValidation Accuracy: 84.56%\n",
      "\n",
      "Epoch 35/50\n"
     ]
    },
    {
     "data": {
      "application/vnd.jupyter.widget-view+json": {
       "model_id": "8bff27e955d0444ab082a175ac57a1b1",
       "version_major": 2,
       "version_minor": 0
      },
      "text/plain": [
       "0it [00:00, ?it/s]"
      ]
     },
     "metadata": {},
     "output_type": "display_data"
    },
    {
     "name": "stdout",
     "output_type": "stream",
     "text": [
      "\tTrain Loss: 0.4523\n",
      "\tValidation Accuracy: 84.59%\n",
      "\n",
      "Epoch 36/50\n"
     ]
    },
    {
     "data": {
      "application/vnd.jupyter.widget-view+json": {
       "model_id": "6c29431afb2348c69746bda04e942a6c",
       "version_major": 2,
       "version_minor": 0
      },
      "text/plain": [
       "0it [00:00, ?it/s]"
      ]
     },
     "metadata": {},
     "output_type": "display_data"
    },
    {
     "name": "stdout",
     "output_type": "stream",
     "text": [
      "\tTrain Loss: 0.4504\n",
      "\tValidation Accuracy: 84.65%\n",
      "\n",
      "Epoch 37/50\n"
     ]
    },
    {
     "data": {
      "application/vnd.jupyter.widget-view+json": {
       "model_id": "131ea96bd055441ba6c461003c04c3d6",
       "version_major": 2,
       "version_minor": 0
      },
      "text/plain": [
       "0it [00:02, ?it/s]"
      ]
     },
     "metadata": {},
     "output_type": "display_data"
    },
    {
     "name": "stdout",
     "output_type": "stream",
     "text": [
      "\tTrain Loss: 0.4489\n",
      "\tValidation Accuracy: 84.64%\n",
      "\n",
      "Epoch 38/50\n"
     ]
    },
    {
     "data": {
      "application/vnd.jupyter.widget-view+json": {
       "model_id": "1e873ca9ca0249adb9abaa7418e95e18",
       "version_major": 2,
       "version_minor": 0
      },
      "text/plain": [
       "0it [00:00, ?it/s]"
      ]
     },
     "metadata": {},
     "output_type": "display_data"
    },
    {
     "name": "stdout",
     "output_type": "stream",
     "text": [
      "\tTrain Loss: 0.4473\n",
      "\tValidation Accuracy: 84.66%\n",
      "\n",
      "Epoch 39/50\n"
     ]
    },
    {
     "data": {
      "application/vnd.jupyter.widget-view+json": {
       "model_id": "5df70d47a5984dce93561f0f8e84a73d",
       "version_major": 2,
       "version_minor": 0
      },
      "text/plain": [
       "0it [00:02, ?it/s]"
      ]
     },
     "metadata": {},
     "output_type": "display_data"
    },
    {
     "name": "stdout",
     "output_type": "stream",
     "text": [
      "\tTrain Loss: 0.4458\n",
      "\tValidation Accuracy: 84.68%\n",
      "\n",
      "Epoch 40/50\n"
     ]
    },
    {
     "data": {
      "application/vnd.jupyter.widget-view+json": {
       "model_id": "22f97ad9bb154fda8492762e421abec7",
       "version_major": 2,
       "version_minor": 0
      },
      "text/plain": [
       "0it [00:01, ?it/s]"
      ]
     },
     "metadata": {},
     "output_type": "display_data"
    },
    {
     "name": "stdout",
     "output_type": "stream",
     "text": [
      "\tTrain Loss: 0.4446\n",
      "\tValidation Accuracy: 84.72%\n",
      "\n",
      "Epoch 41/50\n"
     ]
    },
    {
     "data": {
      "application/vnd.jupyter.widget-view+json": {
       "model_id": "825f98e76c57417f9062b06c934cff3b",
       "version_major": 2,
       "version_minor": 0
      },
      "text/plain": [
       "0it [00:00, ?it/s]"
      ]
     },
     "metadata": {},
     "output_type": "display_data"
    },
    {
     "name": "stdout",
     "output_type": "stream",
     "text": [
      "\tTrain Loss: 0.4433\n",
      "\tValidation Accuracy: 84.71%\n",
      "\n",
      "Epoch 42/50\n"
     ]
    },
    {
     "data": {
      "application/vnd.jupyter.widget-view+json": {
       "model_id": "675b63fcfcfc4c959b7c86cd2ef8f732",
       "version_major": 2,
       "version_minor": 0
      },
      "text/plain": [
       "0it [00:01, ?it/s]"
      ]
     },
     "metadata": {},
     "output_type": "display_data"
    },
    {
     "name": "stdout",
     "output_type": "stream",
     "text": [
      "\tTrain Loss: 0.4423\n",
      "\tValidation Accuracy: 84.73%\n",
      "\n",
      "Epoch 43/50\n"
     ]
    },
    {
     "data": {
      "application/vnd.jupyter.widget-view+json": {
       "model_id": "ee19d5c5ca764e918903c3ba2e810b90",
       "version_major": 2,
       "version_minor": 0
      },
      "text/plain": [
       "0it [00:00, ?it/s]"
      ]
     },
     "metadata": {},
     "output_type": "display_data"
    },
    {
     "name": "stdout",
     "output_type": "stream",
     "text": [
      "\tTrain Loss: 0.4414\n",
      "\tValidation Accuracy: 84.72%\n",
      "\n",
      "Epoch 44/50\n"
     ]
    },
    {
     "data": {
      "application/vnd.jupyter.widget-view+json": {
       "model_id": "b042e2a36e2a4f3cb5181ce6dfca407b",
       "version_major": 2,
       "version_minor": 0
      },
      "text/plain": [
       "0it [00:00, ?it/s]"
      ]
     },
     "metadata": {},
     "output_type": "display_data"
    },
    {
     "name": "stdout",
     "output_type": "stream",
     "text": [
      "\tTrain Loss: 0.4408\n",
      "\tValidation Accuracy: 84.76%\n",
      "\n",
      "Epoch 45/50\n"
     ]
    },
    {
     "data": {
      "application/vnd.jupyter.widget-view+json": {
       "model_id": "2b972c3fffa04efb9fdd60f33e98fd1c",
       "version_major": 2,
       "version_minor": 0
      },
      "text/plain": [
       "0it [00:00, ?it/s]"
      ]
     },
     "metadata": {},
     "output_type": "display_data"
    },
    {
     "name": "stdout",
     "output_type": "stream",
     "text": [
      "\tTrain Loss: 0.4400\n",
      "\tValidation Accuracy: 84.76%\n",
      "\n",
      "Epoch 46/50\n"
     ]
    },
    {
     "data": {
      "application/vnd.jupyter.widget-view+json": {
       "model_id": "823bfb096ff947bb8af8119cad4de76b",
       "version_major": 2,
       "version_minor": 0
      },
      "text/plain": [
       "0it [00:00, ?it/s]"
      ]
     },
     "metadata": {},
     "output_type": "display_data"
    },
    {
     "name": "stdout",
     "output_type": "stream",
     "text": [
      "\tTrain Loss: 0.4394\n",
      "\tValidation Accuracy: 84.75%\n",
      "\n",
      "Epoch 47/50\n"
     ]
    },
    {
     "data": {
      "application/vnd.jupyter.widget-view+json": {
       "model_id": "9d34546f197f4b87afe7f644123b8f97",
       "version_major": 2,
       "version_minor": 0
      },
      "text/plain": [
       "0it [00:00, ?it/s]"
      ]
     },
     "metadata": {},
     "output_type": "display_data"
    },
    {
     "name": "stdout",
     "output_type": "stream",
     "text": [
      "\tTrain Loss: 0.4391\n",
      "\tValidation Accuracy: 84.77%\n",
      "\n",
      "Epoch 48/50\n"
     ]
    },
    {
     "data": {
      "application/vnd.jupyter.widget-view+json": {
       "model_id": "604c13edab65445da4f4b07ce247ca20",
       "version_major": 2,
       "version_minor": 0
      },
      "text/plain": [
       "0it [00:00, ?it/s]"
      ]
     },
     "metadata": {},
     "output_type": "display_data"
    },
    {
     "name": "stdout",
     "output_type": "stream",
     "text": [
      "\tTrain Loss: 0.4387\n",
      "\tValidation Accuracy: 84.76%\n",
      "\n",
      "Epoch 49/50\n"
     ]
    },
    {
     "data": {
      "application/vnd.jupyter.widget-view+json": {
       "model_id": "e5c5234b643e4e41826f5b743ac71962",
       "version_major": 2,
       "version_minor": 0
      },
      "text/plain": [
       "0it [00:00, ?it/s]"
      ]
     },
     "metadata": {},
     "output_type": "display_data"
    },
    {
     "name": "stdout",
     "output_type": "stream",
     "text": [
      "\tTrain Loss: 0.4385\n",
      "\tValidation Accuracy: 84.77%\n",
      "\n",
      "Epoch 50/50\n"
     ]
    },
    {
     "data": {
      "application/vnd.jupyter.widget-view+json": {
       "model_id": "d330c4403fdb47168037de8bba72563d",
       "version_major": 2,
       "version_minor": 0
      },
      "text/plain": [
       "0it [00:00, ?it/s]"
      ]
     },
     "metadata": {},
     "output_type": "display_data"
    },
    {
     "name": "stdout",
     "output_type": "stream",
     "text": [
      "\tTrain Loss: 0.4385\n",
      "\tValidation Accuracy: 84.77%\n"
     ]
    },
    {
     "data": {
      "text/html": [
       "Waiting for W&B process to finish... <strong style=\"color:green\">(success).</strong>"
      ],
      "text/plain": [
       "<IPython.core.display.HTML object>"
      ]
     },
     "metadata": {},
     "output_type": "display_data"
    },
    {
     "data": {
      "application/vnd.jupyter.widget-view+json": {
       "model_id": "",
       "version_major": 2,
       "version_minor": 0
      },
      "text/plain": [
       "VBox(children=(Label(value='0.001 MB of 0.001 MB uploaded (0.000 MB deduped)\\r'), FloatProgress(value=1.0, max…"
      ]
     },
     "metadata": {},
     "output_type": "display_data"
    },
    {
     "data": {
      "text/html": [
       "<style>\n",
       "    table.wandb td:nth-child(1) { padding: 0 10px; text-align: left ; width: auto;} td:nth-child(2) {text-align: left ; width: 100%}\n",
       "    .wandb-row { display: flex; flex-direction: row; flex-wrap: wrap; justify-content: flex-start; width: 100% }\n",
       "    .wandb-col { display: flex; flex-direction: column; flex-basis: 100%; flex: 1; padding: 10px; }\n",
       "    </style>\n",
       "<div class=\"wandb-row\"><div class=\"wandb-col\"><h3>Run history:</h3><br/><table class=\"wandb\"><tr><td>train loss</td><td>█▅▄▄▃▃▃▃▃▂▂▂▂▂▂▂▂▂▂▂▂▂▁▁▁▁▁▁▁▁▁▁▁▁▁▁▁▁▁▁</td></tr><tr><td>validation accuracy</td><td>▁▃▄▅▅▆▆▆▆▇▇▇▇▇▇▇▇▇▇▇████████████████████</td></tr><tr><td>validation loss</td><td>█▆▅▄▄▃▃▃▂▂▂▂▂▂▂▂▂▂▂▂▁▁▁▁▁▁▁▁▁▁▁▁▁▁▁▁▁▁▁▁</td></tr></table><br/></div><div class=\"wandb-col\"><h3>Run summary:</h3><br/><table class=\"wandb\"><tr><td>train loss</td><td>0.43851</td></tr><tr><td>validation accuracy</td><td>84.76812</td></tr><tr><td>validation loss</td><td>0.46202</td></tr></table><br/></div></div>"
      ],
      "text/plain": [
       "<IPython.core.display.HTML object>"
      ]
     },
     "metadata": {},
     "output_type": "display_data"
    },
    {
     "data": {
      "text/html": [
       "Synced <strong style=\"color:#cdcd00\">exp_structure_v2</strong>: <a href=\"https://wandb.ai/jiin/hw1p2/runs/rfq5ks30\" target=\"_blank\">https://wandb.ai/jiin/hw1p2/runs/rfq5ks30</a><br/>Synced 6 W&B file(s), 0 media file(s), 0 artifact file(s) and 1 other file(s)"
      ],
      "text/plain": [
       "<IPython.core.display.HTML object>"
      ]
     },
     "metadata": {},
     "output_type": "display_data"
    },
    {
     "data": {
      "text/html": [
       "Find logs at: <code>./wandb/run-20220930_033518-rfq5ks30/logs</code>"
      ],
      "text/plain": [
       "<IPython.core.display.HTML object>"
      ]
     },
     "metadata": {},
     "output_type": "display_data"
    }
   ],
   "source": [
    "# Iterate over number of epochs to train and evaluate your model\n",
    "torch.cuda.empty_cache()\n",
    "\n",
    "best_acc = 0.0 ### Monitor best accuracy in your run\n",
    "\n",
    "for epoch in range(config['epochs']):\n",
    "    print(\"\\nEpoch {}/{}\".format(epoch+1, config['epochs']))\n",
    "\n",
    "    train_loss = train(model, optimizer, criterion, scheduler, train_loader)\n",
    "    accuracy, val_loss = eval(model, val_loader)\n",
    "\n",
    "    print(\"\\tTrain Loss: {:.4f}\".format(train_loss))\n",
    "    print(\"\\tValidation Accuracy: {:.2f}%\".format(accuracy))\n",
    "\n",
    "\n",
    "    ### Log metrics at each epoch in your run - Optionally, you can log at each batch inside train/eval functions (explore wandb documentation/wandb recitation)\n",
    "    wandb.log({\"train loss\": train_loss, \"validation accuracy\": accuracy, \"validation loss\": val_loss})\n",
    "\n",
    "    ### Save checkpoint if accuracy is better than your current best\n",
    "    if accuracy >= best_acc:\n",
    "        torch.save(model.state_dict(), 'exp_structure_v2/best-parameters_1.pt')\n",
    "        best_acc = accuracy\n",
    "        \n",
    "        \n",
    "    ### Save checkpoint with information you want\n",
    "    torch.save({'epoch': epoch,\n",
    "          'model_state_dict': model.state_dict(),\n",
    "          'optimizer_state_dict': optimizer.state_dict(),\n",
    "          'loss': train_loss,\n",
    "          'acc': accuracy}, \n",
    "    './model_checkpoint.pth')\n",
    "\n",
    "    ### Save checkpoint in wandb\n",
    "    wandb.save('checkpoint.pth')\n",
    "\n",
    "\n",
    "    # Is your training time very high? Look into mixed precision training if your GPU (Tesla T4, V100, etc) can make use of it \n",
    "    # Refer - https://pytorch.org/docs/stable/notes/amp_examples.html\n",
    "\n",
    "### save best model parameters\n",
    "model.load_state_dict(torch.load('exp_structure_v2/best-parameters_1.pt'))\n",
    "### Finish your wandb run\n",
    "run.finish()"
   ]
  },
  {
   "cell_type": "code",
   "execution_count": 26,
   "metadata": {},
   "outputs": [
    {
     "data": {
      "text/plain": [
       "(84.77421372740899, 0.4621569458729614)"
      ]
     },
     "execution_count": 26,
     "metadata": {},
     "output_type": "execute_result"
    }
   ],
   "source": [
    "eval(model, val_loader)"
   ]
  },
  {
   "cell_type": "markdown",
   "metadata": {
    "id": "_kXwf5YUo_4A"
   },
   "source": [
    "# Testing and submission to Kaggle"
   ]
  },
  {
   "cell_type": "markdown",
   "metadata": {
    "id": "WI1hSFYLpJvH"
   },
   "source": [
    "Before we get to the following code, make sure to see the format of submission given in *random_submission.csv*. Once you have done so, it is time to fill the following function to complete your inference on test data. Refer the eval function from previous cells to get an idea of how to go about completing this function."
   ]
  },
  {
   "cell_type": "code",
   "execution_count": 27,
   "metadata": {
    "id": "R-SU9fZ3xHtk"
   },
   "outputs": [],
   "source": [
    "def test(model, test_loader):\n",
    "    ### What you call for model to perform inference?\n",
    "    model.eval()\n",
    "\n",
    "    ### List to store predicted phonemes of test data\n",
    "    test_predictions = []\n",
    "\n",
    "    ### Which mode do you need to avoid gradients?\n",
    "    with torch.inference_mode():\n",
    "\n",
    "        for i, frames in enumerate(tqdm(test_loader)):\n",
    "\n",
    "            frames = frames.float().to(device)             \n",
    "\n",
    "            output = model(frames)\n",
    "\n",
    "            ### Get most likely predicted phoneme with argmax\n",
    "            predicted_phonemes = torch.argmax(output, dim=1)\n",
    "\n",
    "            ### How do you store predicted_phonemes with test_predictions? Hint, look at eval \n",
    "            test_predictions.extend(predicted_phonemes.cpu().tolist())\n",
    "          \n",
    "    return test_predictions"
   ]
  },
  {
   "cell_type": "code",
   "execution_count": 28,
   "metadata": {
    "id": "wG9v6Xmxu7wp"
   },
   "outputs": [
    {
     "data": {
      "application/vnd.jupyter.widget-view+json": {
       "model_id": "1e9708b0987742a9bc2fff0a70da61f0",
       "version_major": 2,
       "version_minor": 0
      },
      "text/plain": [
       "  0%|          | 0/949 [00:00<?, ?it/s]"
      ]
     },
     "metadata": {},
     "output_type": "display_data"
    }
   ],
   "source": [
    "predictions = test(model, test_loader)"
   ]
  },
  {
   "cell_type": "code",
   "execution_count": 29,
   "metadata": {},
   "outputs": [
    {
     "data": {
      "text/plain": [
       "1943253"
      ]
     },
     "execution_count": 29,
     "metadata": {},
     "output_type": "execute_result"
    }
   ],
   "source": [
    "len(predictions)"
   ]
  },
  {
   "cell_type": "code",
   "execution_count": 30,
   "metadata": {
    "id": "ZE1hRnvf0bFz"
   },
   "outputs": [],
   "source": [
    "### Create CSV file with predictions\n",
    "with open(\"./exp_structure_v2/submission_largemodel_1.csv\", \"w+\") as f:\n",
    "    f.write(\"id,label\\n\")\n",
    "    for i in range(len(predictions)):\n",
    "        f.write(\"{},{}\\n\".format(i, predictions[i]))"
   ]
  },
  {
   "cell_type": "code",
   "execution_count": 31,
   "metadata": {},
   "outputs": [
    {
     "data": {
      "text/plain": [
       "(1943253, 2)"
      ]
     },
     "execution_count": 31,
     "metadata": {},
     "output_type": "execute_result"
    }
   ],
   "source": [
    "result_df = pd.read_csv('./exp_structure_v2/submission_largemodel_1.csv')\n",
    "result_df.shape"
   ]
  },
  {
   "cell_type": "code",
   "execution_count": 32,
   "metadata": {
    "id": "LjcammuCxMKN"
   },
   "outputs": [],
   "source": [
    "### Submit to kaggle competition using kaggle API\n",
    "# !kaggle competitions submit -c 11-785-f22-hw1p2 -f ./exp_scheduler/submission_CosineAnnealingLR_3.csv -m \"Test Submission\""
   ]
  },
  {
   "cell_type": "code",
   "execution_count": null,
   "metadata": {},
   "outputs": [],
   "source": []
  }
 ],
 "metadata": {
  "accelerator": "GPU",
  "colab": {
   "collapsed_sections": [
    "z4vZbDmJvMp1",
    "ZIi0Big7vPa9",
    "Vuzce0_TdcaR",
    "qNacQ8bpt9nw",
    "2mlwaKlDt_2c",
    "Nxjwve20JRJ2",
    "HejoSXe3vMVU",
    "IBwunYpyugFg",
    "yMd_XxPku5qp",
    "nclx_04fu7Dd",
    "_kXwf5YUo_4A"
   ],
   "machine_shape": "hm",
   "provenance": []
  },
  "gpuClass": "standard",
  "kernelspec": {
   "display_name": "torch",
   "language": "python",
   "name": "torch"
  },
  "language_info": {
   "codemirror_mode": {
    "name": "ipython",
    "version": 3
   },
   "file_extension": ".py",
   "mimetype": "text/x-python",
   "name": "python",
   "nbconvert_exporter": "python",
   "pygments_lexer": "ipython3",
   "version": "3.9.7"
  },
  "vscode": {
   "interpreter": {
    "hash": "b0fa6594d8f4cbf19f97940f81e996739fb7646882a419484c72d19e05852a7e"
   }
  }
 },
 "nbformat": 4,
 "nbformat_minor": 4
}
