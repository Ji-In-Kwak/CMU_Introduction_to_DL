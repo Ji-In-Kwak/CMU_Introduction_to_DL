{
 "cells": [
  {
   "cell_type": "markdown",
   "metadata": {
    "id": "F9ERgBpbcMmB"
   },
   "source": [
    "# HW1: Frame-Level Speech Recognition"
   ]
  },
  {
   "cell_type": "markdown",
   "metadata": {
    "id": "CLkH6GMGcWcE"
   },
   "source": [
    "In this homework, you will be working with MFCC data consisting of 15 features at each time step/frame. Your model should be able to recognize the phoneme occured in that frame."
   ]
  },
  {
   "cell_type": "markdown",
   "metadata": {
    "id": "z4vZbDmJvMp1"
   },
   "source": [
    "# Libraries"
   ]
  },
  {
   "cell_type": "code",
   "execution_count": 157,
   "metadata": {
    "id": "rwYu9sSUnSho"
   },
   "outputs": [],
   "source": [
    "# !pip install torchsummaryX wandb --quiet"
   ]
  },
  {
   "cell_type": "code",
   "execution_count": 59,
   "metadata": {
    "colab": {
     "base_uri": "https://localhost:8080/"
    },
    "id": "qI4qfx7tiBZt",
    "outputId": "e51869ed-4881-43cd-9c7d-25d9f113ce0c"
   },
   "outputs": [
    {
     "name": "stdout",
     "output_type": "stream",
     "text": [
      "Device:  cuda\n"
     ]
    }
   ],
   "source": [
    "import torch\n",
    "import numpy as np\n",
    "from torchsummaryX import summary\n",
    "import sklearn\n",
    "from sklearn.metrics import accuracy_score\n",
    "import gc\n",
    "import zipfile\n",
    "import pandas as pd\n",
    "from tqdm.auto import tqdm\n",
    "import os\n",
    "import datetime\n",
    "import wandb\n",
    "device = 'cuda' if torch.cuda.is_available() else 'cpu'\n",
    "print(\"Device: \", device)"
   ]
  },
  {
   "cell_type": "code",
   "execution_count": 2,
   "metadata": {
    "id": "8yBgXjKV1O0Z"
   },
   "outputs": [],
   "source": [
    "### If you are using colab, you can import google drive to save model checkpoints in a folder\n",
    "# from google.colab import drive\n",
    "# drive.mount('/content/drive')"
   ]
  },
  {
   "cell_type": "code",
   "execution_count": 3,
   "metadata": {
    "id": "N-9qE20hmCgQ",
    "tags": []
   },
   "outputs": [],
   "source": [
    "### PHONEME LIST\n",
    "PHONEMES = [\n",
    "            'SIL',   'AA',    'AE',    'AH',    'AO',    'AW',    'AY',  \n",
    "            'B',     'CH',    'D',     'DH',    'EH',    'ER',    'EY',\n",
    "            'F',     'G',     'HH',    'IH',    'IY',    'JH',    'K',\n",
    "            'L',     'M',     'N',     'NG',    'OW',    'OY',    'P',\n",
    "            'R',     'S',     'SH',    'T',     'TH',    'UH',    'UW',\n",
    "            'V',     'W',     'Y',     'Z',     'ZH',    '<sos>', '<eos>']"
   ]
  },
  {
   "cell_type": "markdown",
   "metadata": {
    "id": "ZIi0Big7vPa9"
   },
   "source": [
    "# Kaggle"
   ]
  },
  {
   "cell_type": "markdown",
   "metadata": {
    "id": "BBCbeRhixGM7"
   },
   "source": [
    "This section contains code that helps you install kaggle's API, creating kaggle.json with you username and API key details. Make sure to input those in the given code to ensure you can download data from the competition successfully."
   ]
  },
  {
   "cell_type": "code",
   "execution_count": 4,
   "metadata": {
    "id": "TPBUd7Cnl-Rx"
   },
   "outputs": [],
   "source": [
    "# !pip install --upgrade --force-reinstall --no-deps kaggle==1.5.8\n",
    "# !mkdir /root/.kaggle\n",
    "\n",
    "# with open(\"/root/.kaggle/kaggle.json\", \"w+\") as f:\n",
    "#     f.write('{\"username\":\"Replace this with your Kaggle Username \",\"key\":\"Replace this with your kaggle API key\"}') \n",
    "#     # Put your kaggle username & key here\n",
    "\n",
    "# !chmod 600 /root/.kaggle/kaggle.json"
   ]
  },
  {
   "cell_type": "code",
   "execution_count": 5,
   "metadata": {
    "colab": {
     "base_uri": "https://localhost:8080/"
    },
    "id": "if2Somqfbje1",
    "outputId": "ca0cd1c0-adb2-4e59-e80c-f0234b00580c"
   },
   "outputs": [],
   "source": [
    "# # commands to download data from kaggle\n",
    "\n",
    "# !kaggle competitions download -c 11-785-f22-hw1p2\n",
    "# !mkdir '/content/data'\n",
    "\n",
    "# !unzip -qo '11-785-f22-hw1p2.zip' -d '/content/data'"
   ]
  },
  {
   "cell_type": "markdown",
   "metadata": {
    "id": "Vuzce0_TdcaR"
   },
   "source": [
    "# Dataset"
   ]
  },
  {
   "cell_type": "markdown",
   "metadata": {
    "id": "2_7QgMbBdgPp"
   },
   "source": [
    "This section covers the dataset/dataloader class for speech data. You will have to spend time writing code to create this class successfully. We have given you a lot of comments guiding you on what code to write at each stage, from top to bottom of the class. Please try and take your time figuring this out, as it will immensely help in creating dataset/dataloader classes for future homeworks.\n",
    "\n",
    "Before running the following cells, please take some time to analyse the structure of data. Try loading a single MFCC and its transcipt, print out the shapes and print out the values. Do the transcripts look like phonemes?"
   ]
  },
  {
   "cell_type": "markdown",
   "metadata": {},
   "source": [
    "### Deviation"
   ]
  },
  {
   "cell_type": "code",
   "execution_count": 6,
   "metadata": {},
   "outputs": [
    {
     "name": "stdout",
     "output_type": "stream",
     "text": [
      "2703\n",
      "396367\n"
     ]
    }
   ],
   "source": [
    "dev_dirs = os.listdir('data/dev-clean/transcript')\n",
    "print(len(dev_dirs))\n",
    "\n",
    "SIL_cnts = 0\n",
    "for i in range(len(dev_dirs)):\n",
    "    dev_labels = np.load(os.path.join('data/dev-clean/transcript', dev_dirs[i]))\n",
    "    SIL_cnts += list(dev_labels).count('SIL')\n",
    "    \n",
    "print(SIL_cnts)"
   ]
  },
  {
   "cell_type": "code",
   "execution_count": null,
   "metadata": {},
   "outputs": [],
   "source": []
  },
  {
   "cell_type": "markdown",
   "metadata": {},
   "source": [
    "### Dataset Class"
   ]
  },
  {
   "cell_type": "code",
   "execution_count": 60,
   "metadata": {
    "id": "YpLCvi3AJC5z"
   },
   "outputs": [],
   "source": [
    "# Dataset class to load train and validation data\n",
    "\n",
    "class AudioDataset(torch.utils.data.Dataset):\n",
    "\n",
    "    def __init__(self, data_path, context, offset=0, partition= \"train\", limit=-1): # Feel free to add more arguments\n",
    "\n",
    "        self.context = context\n",
    "        self.offset = offset\n",
    "        self.data_path = data_path\n",
    "\n",
    "        if partition == 'train':\n",
    "            self.mfcc_dir = os.path.join(self.data_path, partition+'-clean-100', 'mfcc') # TODO: MFCC directory - use partition to acces train/dev directories from kaggle data\n",
    "            self.transcript_dir = os.path.join(self.data_path, partition+'-clean-100', 'transcript') # TODO: Transcripts directory - use partition to acces train/dev directories from kaggle data\n",
    "        else:\n",
    "            self.mfcc_dir = os.path.join(self.data_path, partition+'-clean', 'mfcc') # TODO: MFCC directory - use partition to acces train/dev directories from kaggle data\n",
    "            self.transcript_dir = os.path.join(self.data_path, partition+'-clean', 'transcript') # TODO: Transcripts directory - use partition to acces train/dev directories from kaggle data\n",
    "            \n",
    "        mfcc_names = sorted(os.listdir(self.mfcc_dir)[:100]) # TODO: List files in sefl.mfcc_dir_dir using os.listdir in sorted order, optionally subset using limit to slice the number of files you load\n",
    "        transcript_names = sorted(os.listdir(self.transcript_dir)[:100]) # TODO: List files in self.transcript_dir using os.listdir in sorted order, optionally subset using limit to slice the number of files you load\n",
    "\n",
    "        assert len(mfcc_names) == len(transcript_names) # Making sure that we have the same no. of mfcc and transcripts\n",
    "\n",
    "        self.mfccs, self.transcripts = [], []\n",
    "\n",
    "        # TODO:\n",
    "        # Iterate through mfccs and transcripts\n",
    "        for i in range(0, len(mfcc_names)):\n",
    "        #   Load a single mfcc\n",
    "            mfcc = np.load(os.path.join(self.mfcc_dir, mfcc_names[i]))\n",
    "        #   Optionally do Cepstral Normalization of mfcc\n",
    "        #   Load the corresponding transcript\n",
    "            transcript = np.load(os.path.join(self.transcript_dir, transcript_names[i]))[1:-1] # Remove [SOS] and [EOS] from the transcript (Is there an efficient way to do this \n",
    "            # without traversing through the transcript?)\n",
    "        #   Append each mfcc to self.mfcc, transcript to self.transcript\n",
    "            self.mfccs.append(mfcc)\n",
    "            self.transcripts.append(transcript)\n",
    "\n",
    "        \n",
    "\n",
    "        # NOTE:\n",
    "        # Each mfcc is of shape T1 x 15, T2 x 15, ...\n",
    "        # Each transcript is of shape (T1+2) x 15, (T2+2) x 15 before removing [SOS] and [EOS]\n",
    "\n",
    "        # TODO: Concatenate all mfccs in self.mfccs such that the final shape is T x 15 (Where T = T1 + T2 + ...) \n",
    "        self.mfccs = np.concatenate(self.mfccs)\n",
    "        print(self.mfccs.shape)\n",
    "\n",
    "        # TODO: Concatenate all transcripts in self.transcripts such that the final shape is (T,) meaning, each time step has one phoneme output\n",
    "        self.transcripts = np.concatenate(self.transcripts)\n",
    "        print(self.transcripts.shape)\n",
    "        # Hint: Use numpy to concatenate\n",
    "\n",
    "        # Take some time to think about what we have done. self.mfcc is an array of the format (Frames x Features). Our goal is to recognize phonemes of each frame\n",
    "        # From hw0, you will be knowing what context is. We can introduce context by padding zeros on top and bottom of self.mfcc\n",
    "        self.mfccs = np.pad(self.mfccs, ((12,12), (0,0)), mode='constant', constant_values=0) # TODO\n",
    "        print(self.mfccs.shape)\n",
    "\n",
    "        # These are the available phonemes in the transcript\n",
    "        self.phonemes = [\n",
    "            'SIL',   'AA',    'AE',    'AH',    'AO',    'AW',    'AY',  \n",
    "            'B',     'CH',    'D',     'DH',    'EH',    'ER',    'EY',\n",
    "            'F',     'G',     'HH',    'IH',    'IY',    'JH',    'K',\n",
    "            'L',     'M',     'N',     'NG',    'OW',    'OY',    'P',\n",
    "            'R',     'S',     'SH',    'T',     'TH',    'UH',    'UW',\n",
    "            'V',     'W',     'Y',     'Z',     'ZH',    '<sos>', '<eos>']\n",
    "        # But the neural network cannot predict strings as such. Instead we map these phonemes to integers\n",
    "\n",
    "        self.transcripts = np.array([self.phonemes.index(i) for i in self.transcripts]) # TODO: Map the phonemes to their corresponding list indexes in self.phonemes\n",
    "        # Now, if an element in self.transcript is 0, it means that it is 'SIL' (as per the above example)\n",
    "        \n",
    "        # Length of the dataset is now the length of concatenated mfccs/transcripts\n",
    "        self.length = len(self.mfccs) - 2*self.context\n",
    "\n",
    "    def __len__(self):\n",
    "        return self.length\n",
    "\n",
    "    def __getitem__(self, ind):\n",
    "        \n",
    "        frames = self.mfccs[ind:ind + 2*self.context + 1, :] # TODO: Based on context and offset, return a frame at given index with context frames to the left, and right.\n",
    "        # After slicing, you get an array of shape 2*context+1 x 15. But our MLP needs 1d data and not 2d.\n",
    "        frames = np.ndarray.flatten(frames) # TODO: Flatten to get 1d data\n",
    "\n",
    "        frames = torch.FloatTensor(frames) # Convert to tensors\n",
    "        phoneme = torch.tensor(self.transcripts[ind])  \n",
    "\n",
    "        return frames, phoneme"
   ]
  },
  {
   "cell_type": "code",
   "execution_count": 80,
   "metadata": {
    "id": "e8KfVP39S6o7",
    "tags": []
   },
   "outputs": [],
   "source": [
    "class AudioTestDataset(torch.utils.data.Dataset):\n",
    "\n",
    "    # TODO: Create a test dataset class similar to the previous class but you dont have transcripts for this\n",
    "    # Imp: Read the mfccs in sorted order, do NOT shuffle the data here or in your dataloader.\n",
    "\n",
    "    def __init__(self, data_path, context, offset=0, partition= \"train\", limit=-1): # Feel free to add more arguments\n",
    "\n",
    "        self.context = context\n",
    "        self.offset = offset\n",
    "        self.data_path = data_path\n",
    "\n",
    "        self.mfcc_dir = os.path.join(self.data_path, 'test-clean', 'mfcc') # TODO: MFCC directory - use partition to acces train/dev directories from kaggle data\n",
    "            \n",
    "        mfcc_names = sorted(os.listdir(self.mfcc_dir)) # TODO: List files in sefl.mfcc_dir_dir using os.listdir in sorted order, optionally subset using limit to slice the number of files you load\n",
    "\n",
    "        self.mfccs = []\n",
    "\n",
    "        # TODO:\n",
    "        # Iterate through mfccs and transcripts\n",
    "        for i in range(0, len(mfcc_names)):\n",
    "        #   Load a single mfcc\n",
    "            mfcc = np.load(os.path.join(self.mfcc_dir, mfcc_names[i]))\n",
    "        #   Optionally do Cepstral Normalization of mfcc\n",
    "        #   Append each mfcc to self.mfcc, transcript to self.transcript\n",
    "            self.mfccs.append(mfcc)\n",
    "        \n",
    "\n",
    "        # NOTE:\n",
    "        # Each mfcc is of shape T1 x 15, T2 x 15, ...\n",
    "        # Each transcript is of shape (T1+2) x 15, (T2+2) x 15 before removing [SOS] and [EOS]\n",
    "\n",
    "        # TODO: Concatenate all mfccs in self.mfccs such that the final shape is T x 15 (Where T = T1 + T2 + ...) \n",
    "        self.mfccs = np.concatenate(self.mfccs)\n",
    "        print(self.mfccs.shape)\n",
    "\n",
    "        # Take some time to think about what we have done. self.mfcc is an array of the format (Frames x Features). Our goal is to recognize phonemes of each frame\n",
    "        # From hw0, you will be knowing what context is. We can introduce context by padding zeros on top and bottom of self.mfcc\n",
    "        self.mfccs = np.pad(self.mfccs, ((12,12), (0,0)), mode='constant', constant_values=0) # TODO\n",
    "        print(self.mfccs.shape)\n",
    "\n",
    "        # These are the available phonemes in the transcript\n",
    "        self.phonemes = [\n",
    "            'SIL',   'AA',    'AE',    'AH',    'AO',    'AW',    'AY',  \n",
    "            'B',     'CH',    'D',     'DH',    'EH',    'ER',    'EY',\n",
    "            'F',     'G',     'HH',    'IH',    'IY',    'JH',    'K',\n",
    "            'L',     'M',     'N',     'NG',    'OW',    'OY',    'P',\n",
    "            'R',     'S',     'SH',    'T',     'TH',    'UH',    'UW',\n",
    "            'V',     'W',     'Y',     'Z',     'ZH',    '<sos>', '<eos>']\n",
    "        # But the neural network cannot predict strings as such. Instead we map these phonemes to integers\n",
    "\n",
    "        \n",
    "        # Length of the dataset is now the length of concatenated mfccs/transcripts\n",
    "        self.length = len(self.mfccs) - 2*self.context\n",
    "\n",
    "    def __len__(self):\n",
    "        return self.length\n",
    "\n",
    "    def __getitem__(self, ind):\n",
    "        \n",
    "        frames = self.mfccs[ind:ind + 2*self.context + 1, :] # TODO: Based on context and offset, return a frame at given index with context frames to the left, and right.\n",
    "        # After slicing, you get an array of shape 2*context+1 x 15. But our MLP needs 1d data and not 2d.\n",
    "        frames = np.ndarray.flatten(frames) # TODO: Flatten to get 1d data\n",
    "\n",
    "        frames = torch.FloatTensor(frames) # Convert to tensors\n",
    "\n",
    "        return frames"
   ]
  },
  {
   "cell_type": "markdown",
   "metadata": {
    "id": "qNacQ8bpt9nw"
   },
   "source": [
    "# Parameters Configuration"
   ]
  },
  {
   "cell_type": "markdown",
   "metadata": {
    "id": "WE7tsinAuLNy"
   },
   "source": [
    "Storing your parameters and hyperparameters in a single configuration dictionary makes it easier to keep track of them during each experiment. It can also be used with weights and biases to log your parameters for each experiment and keep track of them across multiple experiments. "
   ]
  },
  {
   "cell_type": "code",
   "execution_count": 81,
   "metadata": {
    "id": "PmKwlFqgt_Zq"
   },
   "outputs": [],
   "source": [
    "config = {\n",
    "    'epochs': 10,\n",
    "    'batch_size' : 1024,\n",
    "    'context' : 12,\n",
    "    'learning_rate' : 0.001,\n",
    "    'architecture' : 'very-low-cutoff'\n",
    "    # Add more as you need them - e.g dropout values, weight decay, scheduler parameters\n",
    "}"
   ]
  },
  {
   "cell_type": "markdown",
   "metadata": {
    "id": "2mlwaKlDt_2c"
   },
   "source": [
    "# Create Datasets"
   ]
  },
  {
   "cell_type": "code",
   "execution_count": 82,
   "metadata": {
    "id": "7xi7V8x8W9z4"
   },
   "outputs": [
    {
     "name": "stdout",
     "output_type": "stream",
     "text": [
      "(121975, 15)\n",
      "(121975,)\n",
      "(121999, 15)\n",
      "(71986, 15)\n",
      "(71986,)\n",
      "(72010, 15)\n",
      "(1943253, 15)\n",
      "(1943277, 15)\n"
     ]
    }
   ],
   "source": [
    "train_data = AudioDataset('data', context=config['context'], partition='train') #TODO: Create a dataset object using the AudioDataset class for the training data \n",
    "\n",
    "val_data = AudioDataset('data', context=config['context'], partition='dev') # TODO: Create a dataset object using the AudioDataset class for the validation data \n",
    "\n",
    "test_data = AudioTestDataset('data', context=config['context']) # TODO: Create a dataset object using the AudioTestDataset class for the test data "
   ]
  },
  {
   "cell_type": "code",
   "execution_count": 83,
   "metadata": {
    "id": "4mzoYfTKu14s"
   },
   "outputs": [
    {
     "name": "stdout",
     "output_type": "stream",
     "text": [
      "Batch size:  1024\n",
      "Context:  12\n",
      "Input size:  375\n",
      "Output symbols:  42\n",
      "Train dataset samples = 121975, batches = 120\n",
      "Validation dataset samples = 71986, batches = 71\n",
      "Test dataset samples = 1943253, batches = 1898\n"
     ]
    }
   ],
   "source": [
    "# Define dataloaders for train, val and test datasets\n",
    "# Dataloaders will yield a batch of frames and phonemes of given batch_size at every iteration\n",
    "train_loader = torch.utils.data.DataLoader(train_data, num_workers= 4,\n",
    "                                           batch_size=config['batch_size'], pin_memory= True,\n",
    "                                           shuffle= True)\n",
    "\n",
    "val_loader = torch.utils.data.DataLoader(val_data, num_workers= 2,\n",
    "                                         batch_size=config['batch_size'], pin_memory= True,\n",
    "                                         shuffle= False)\n",
    "\n",
    "test_loader = torch.utils.data.DataLoader(test_data, num_workers= 2, \n",
    "                                          batch_size=config['batch_size'], pin_memory= True, \n",
    "                                          shuffle= False)\n",
    "\n",
    "\n",
    "print(\"Batch size: \", config['batch_size'])\n",
    "print(\"Context: \", config['context'])\n",
    "print(\"Input size: \", (2*config['context']+1)*15)\n",
    "print(\"Output symbols: \", len(PHONEMES))\n",
    "\n",
    "print(\"Train dataset samples = {}, batches = {}\".format(train_data.__len__(), len(train_loader)))\n",
    "print(\"Validation dataset samples = {}, batches = {}\".format(val_data.__len__(), len(val_loader)))\n",
    "print(\"Test dataset samples = {}, batches = {}\".format(test_data.__len__(), len(test_loader)))"
   ]
  },
  {
   "cell_type": "code",
   "execution_count": 84,
   "metadata": {
    "id": "n-GV3UvgLSoF"
   },
   "outputs": [
    {
     "name": "stdout",
     "output_type": "stream",
     "text": [
      "torch.Size([1024, 375]) torch.Size([1024])\n"
     ]
    }
   ],
   "source": [
    "# Testing code to check if your data loaders are working\n",
    "for i, data in enumerate(train_loader):\n",
    "    frames, phoneme = data\n",
    "    print(frames.shape, phoneme.shape)\n",
    "    break"
   ]
  },
  {
   "cell_type": "code",
   "execution_count": 85,
   "metadata": {},
   "outputs": [
    {
     "name": "stdout",
     "output_type": "stream",
     "text": [
      "torch.Size([1024, 375])\n"
     ]
    }
   ],
   "source": [
    "# Testing code to check if your data loaders are working\n",
    "for i, data in enumerate(test_loader):\n",
    "    frames = data\n",
    "    print(frames.shape)\n",
    "    break"
   ]
  },
  {
   "cell_type": "markdown",
   "metadata": {
    "id": "Nxjwve20JRJ2"
   },
   "source": [
    "# Network Architecture\n"
   ]
  },
  {
   "cell_type": "markdown",
   "metadata": {
    "id": "3NJzT-mRw6iy"
   },
   "source": [
    "This section defines your network architecture for the homework. We have given you a sample architecture that can easily clear the very low cutoff for the early submission deadline."
   ]
  },
  {
   "cell_type": "code",
   "execution_count": 86,
   "metadata": {
    "id": "OvcpontXQq9j"
   },
   "outputs": [],
   "source": [
    "# This architecture will make you cross the very low cutoff\n",
    "# However, you need to run a lot of experiments to cross the medium or high cutoff\n",
    "class Network(torch.nn.Module):\n",
    "\n",
    "    def __init__(self, context):\n",
    "\n",
    "        super(Network, self).__init__()\n",
    "\n",
    "        input_size = (2*context + 1) * 15 #Why is this the case?\n",
    "        output_size = 40 #Why?\n",
    "\n",
    "        self.model = torch.nn.Sequential(\n",
    "            torch.nn.Linear(input_size, output_size)\n",
    "        )      \n",
    "\n",
    "    def forward(self, x):\n",
    "        out = self.model(x)\n",
    "\n",
    "        return out"
   ]
  },
  {
   "cell_type": "markdown",
   "metadata": {
    "id": "HejoSXe3vMVU"
   },
   "source": [
    "# Define Model, Loss Function and Optimizer"
   ]
  },
  {
   "cell_type": "markdown",
   "metadata": {
    "id": "xAhGBH7-xxth"
   },
   "source": [
    "Here we define the model, loss function, optimizer and optionally a learning rate scheduler. "
   ]
  },
  {
   "cell_type": "code",
   "execution_count": 68,
   "metadata": {
    "id": "_qtrEM1ZvLje"
   },
   "outputs": [
    {
     "name": "stdout",
     "output_type": "stream",
     "text": [
      "=============================================================\n",
      "                 Kernel Shape Output Shape  Params  Mult-Adds\n",
      "Layer                                                        \n",
      "0_model.Linear_0    [375, 40]   [1024, 40]   15040      15000\n",
      "-------------------------------------------------------------\n",
      "                      Totals\n",
      "Total params           15040\n",
      "Trainable params       15040\n",
      "Non-trainable params       0\n",
      "Mult-Adds              15000\n",
      "=============================================================\n"
     ]
    },
    {
     "data": {
      "text/html": [
       "<div>\n",
       "<style scoped>\n",
       "    .dataframe tbody tr th:only-of-type {\n",
       "        vertical-align: middle;\n",
       "    }\n",
       "\n",
       "    .dataframe tbody tr th {\n",
       "        vertical-align: top;\n",
       "    }\n",
       "\n",
       "    .dataframe thead th {\n",
       "        text-align: right;\n",
       "    }\n",
       "</style>\n",
       "<table border=\"1\" class=\"dataframe\">\n",
       "  <thead>\n",
       "    <tr style=\"text-align: right;\">\n",
       "      <th></th>\n",
       "      <th>Kernel Shape</th>\n",
       "      <th>Output Shape</th>\n",
       "      <th>Params</th>\n",
       "      <th>Mult-Adds</th>\n",
       "    </tr>\n",
       "    <tr>\n",
       "      <th>Layer</th>\n",
       "      <th></th>\n",
       "      <th></th>\n",
       "      <th></th>\n",
       "      <th></th>\n",
       "    </tr>\n",
       "  </thead>\n",
       "  <tbody>\n",
       "    <tr>\n",
       "      <th>0_model.Linear_0</th>\n",
       "      <td>[375, 40]</td>\n",
       "      <td>[1024, 40]</td>\n",
       "      <td>15040</td>\n",
       "      <td>15000</td>\n",
       "    </tr>\n",
       "  </tbody>\n",
       "</table>\n",
       "</div>"
      ],
      "text/plain": [
       "                 Kernel Shape Output Shape  Params  Mult-Adds\n",
       "Layer                                                        \n",
       "0_model.Linear_0    [375, 40]   [1024, 40]   15040      15000"
      ]
     },
     "execution_count": 68,
     "metadata": {},
     "output_type": "execute_result"
    }
   ],
   "source": [
    "input_size = 15*(2*config['context'] + 1)\n",
    "model = Network(config['context']).to(device)\n",
    "frames,phoneme = next(iter(train_loader))\n",
    "# Check number of parameters of your network - Remember, you are limited to 20 million parameters for HW1 (including ensembles)\n",
    "summary(model, frames.to(device))"
   ]
  },
  {
   "cell_type": "code",
   "execution_count": 69,
   "metadata": {
    "id": "UROGEVJevKD-"
   },
   "outputs": [],
   "source": [
    "criterion = torch.nn.CrossEntropyLoss() #Defining Loss function \n",
    "optimizer = torch.optim.Adam(model.parameters(), lr=config['learning_rate']) #Defining Optimizer\n",
    "# Recommended : Define Scheduler for Learning Rate, including but not limited to StepLR, MultiStepLR, CosineAnnealingLR, ReduceLROnPlateau, etc. \n",
    "# You can refer to Pytorch documentation for more information on how to use them."
   ]
  },
  {
   "cell_type": "markdown",
   "metadata": {
    "id": "IBwunYpyugFg"
   },
   "source": [
    "# Training and Validation Functions"
   ]
  },
  {
   "cell_type": "markdown",
   "metadata": {
    "id": "1JgeNhx4x2-P"
   },
   "source": [
    "This section covers the training, and validation functions for each epoch of running your experiment with a given model architecture. The code has been provided to you, but we recommend going through the comments to understand the workflow to enable you to write these loops for future HWs."
   ]
  },
  {
   "cell_type": "code",
   "execution_count": 70,
   "metadata": {
    "colab": {
     "base_uri": "https://localhost:8080/"
    },
    "id": "XblOHEVtKab2",
    "outputId": "e7a3c98e-8429-46a4-f348-ac4e21bd03ae"
   },
   "outputs": [
    {
     "data": {
      "text/plain": [
       "191"
      ]
     },
     "execution_count": 70,
     "metadata": {},
     "output_type": "execute_result"
    }
   ],
   "source": [
    "torch.cuda.empty_cache()\n",
    "gc.collect()"
   ]
  },
  {
   "cell_type": "code",
   "execution_count": 71,
   "metadata": {
    "id": "8wjPz7DHqKcL"
   },
   "outputs": [],
   "source": [
    "def train(model, optimizer, criterion, dataloader):\n",
    "\n",
    "    model.train()\n",
    "    train_loss = 0.0 #Monitoring Loss\n",
    "    \n",
    "    for iter, (mfccs, phonemes) in enumerate(dataloader):\n",
    "\n",
    "        ### Move Data to Device (Ideally GPU)\n",
    "        mfccs = mfccs.to(device)\n",
    "        phonemes = phonemes.to(device)\n",
    "\n",
    "        ### Forward Propagation\n",
    "        logits = model(mfccs)\n",
    "\n",
    "        ### Loss Calculation\n",
    "        loss = criterion(logits, phonemes)\n",
    "        train_loss += loss.item()\n",
    "\n",
    "        ### Initialize Gradients\n",
    "        optimizer.zero_grad()\n",
    "\n",
    "        ### Backward Propagation\n",
    "        loss.backward()\n",
    "\n",
    "        ### Gradient Descent\n",
    "        optimizer.step()\n",
    "  \n",
    "    train_loss /= len(dataloader)\n",
    "    return train_loss"
   ]
  },
  {
   "cell_type": "code",
   "execution_count": 72,
   "metadata": {
    "id": "Q5npQNFH315V"
   },
   "outputs": [],
   "source": [
    "def eval(model, dataloader):\n",
    "\n",
    "    model.eval() # set model in evaluation mode\n",
    "\n",
    "    phone_true_list = []\n",
    "    phone_pred_list = []\n",
    "\n",
    "    for i, data in enumerate(dataloader):\n",
    "\n",
    "        frames, phonemes = data\n",
    "        ### Move data to device (ideally GPU)\n",
    "        frames, phonemes = frames.to(device), phonemes.to(device) \n",
    "\n",
    "        with torch.inference_mode(): # makes sure that there are no gradients computed as we are not training the model now\n",
    "            ### Forward Propagation\n",
    "            logits = model(frames)\n",
    "\n",
    "        ### Get Predictions\n",
    "        predicted_phonemes = torch.argmax(logits, dim=1)\n",
    "        \n",
    "        ### Store Pred and True Labels\n",
    "        phone_pred_list.extend(predicted_phonemes.cpu().tolist())\n",
    "        phone_true_list.extend(phonemes.cpu().tolist())\n",
    "        \n",
    "        # Do you think we need loss.backward() and optimizer.step() here?\n",
    "    \n",
    "        del frames, phonemes, logits\n",
    "        torch.cuda.empty_cache()\n",
    "\n",
    "    ### Calculate Accuracy\n",
    "    accuracy = sklearn.metrics.accuracy_score(phone_pred_list, phone_true_list) \n",
    "    return accuracy*100"
   ]
  },
  {
   "cell_type": "markdown",
   "metadata": {
    "id": "yMd_XxPku5qp"
   },
   "source": [
    "# Weights and Biases Setup"
   ]
  },
  {
   "cell_type": "markdown",
   "metadata": {
    "id": "tjIbhR1wwbgI"
   },
   "source": [
    "This section is to enable logging metrics and files with Weights and Biases. Please refer to wandb documentationa and recitation 0 that covers the use of weights and biases for logging, hyperparameter tuning and monitoring your runs for your homeworks. Using this tool makes it very easy to show results when submitting your code and models for homeworks, and also extremely useful for study groups to organize and run ablations under a single team in wandb. \n",
    "\n",
    "We have written code for you to make use of it out of the box, so that you start using wandb for all your HWs from the beginning."
   ]
  },
  {
   "cell_type": "code",
   "execution_count": 73,
   "metadata": {
    "id": "SCDYx5VEu6qI"
   },
   "outputs": [
    {
     "name": "stderr",
     "output_type": "stream",
     "text": [
      "\u001b[34m\u001b[1mwandb\u001b[0m: \u001b[33mWARNING\u001b[0m If you're specifying your api key in code, ensure this code is not shared publicly.\n",
      "\u001b[34m\u001b[1mwandb\u001b[0m: \u001b[33mWARNING\u001b[0m Consider setting the WANDB_API_KEY environment variable, or running `wandb login` from the command line.\n",
      "\u001b[34m\u001b[1mwandb\u001b[0m: Appending key for api.wandb.ai to your netrc file: /home/jiin/.netrc\n"
     ]
    },
    {
     "data": {
      "text/plain": [
       "True"
      ]
     },
     "execution_count": 73,
     "metadata": {},
     "output_type": "execute_result"
    }
   ],
   "source": [
    "wandb.login(key=\"db668044fcf11bc7352d5c79ac0deb75ac86a16b\") #API Key is in your wandb account, under settings (wandb.ai/settings)"
   ]
  },
  {
   "cell_type": "code",
   "execution_count": 74,
   "metadata": {
    "id": "xvUnYd3Bw2up"
   },
   "outputs": [
    {
     "data": {
      "text/html": [
       "wandb version 0.13.3 is available!  To upgrade, please run:\n",
       " $ pip install wandb --upgrade"
      ],
      "text/plain": [
       "<IPython.core.display.HTML object>"
      ]
     },
     "metadata": {},
     "output_type": "display_data"
    },
    {
     "data": {
      "text/html": [
       "Tracking run with wandb version 0.12.21"
      ],
      "text/plain": [
       "<IPython.core.display.HTML object>"
      ]
     },
     "metadata": {},
     "output_type": "display_data"
    },
    {
     "data": {
      "text/html": [
       "Run data is saved locally in <code>/media/usr/SSD/jiin/CMU/IDL/HW1/wandb/run-20220914_102644-r5nskw6w</code>"
      ],
      "text/plain": [
       "<IPython.core.display.HTML object>"
      ]
     },
     "metadata": {},
     "output_type": "display_data"
    },
    {
     "data": {
      "text/html": [
       "Syncing run <strong><a href=\"https://wandb.ai/jiin/hw1p2/runs/r5nskw6w\" target=\"_blank\">first-run</a></strong> to <a href=\"https://wandb.ai/jiin/hw1p2\" target=\"_blank\">Weights & Biases</a> (<a href=\"https://wandb.me/run\" target=\"_blank\">docs</a>)<br/>"
      ],
      "text/plain": [
       "<IPython.core.display.HTML object>"
      ]
     },
     "metadata": {},
     "output_type": "display_data"
    }
   ],
   "source": [
    "# Create your wandb run\n",
    "run = wandb.init(\n",
    "    name = \"first-run\", ### Wandb creates random run names if you skip this field, we recommend you give useful names\n",
    "    reinit=True, ### Allows reinitalizing runs when you re-run this cell\n",
    "    project=\"hw1p2\", ### Project should be created in your wandb account \n",
    "    config=config ### Wandb Config for your run\n",
    ")"
   ]
  },
  {
   "cell_type": "code",
   "execution_count": 75,
   "metadata": {
    "id": "wft15E_IxYFi"
   },
   "outputs": [
    {
     "data": {
      "text/plain": [
       "['/media/usr/SSD/jiin/CMU/IDL/HW1/wandb/run-20220914_102644-r5nskw6w/files/model_arch.txt']"
      ]
     },
     "execution_count": 75,
     "metadata": {},
     "output_type": "execute_result"
    }
   ],
   "source": [
    "### Save your model architecture as a string with str(model) \n",
    "model_arch = str(model)\n",
    "\n",
    "### Save it in a txt file \n",
    "arch_file = open(\"model_arch.txt\", \"w\")\n",
    "file_write = arch_file.write(model_arch)\n",
    "arch_file.close()\n",
    "\n",
    "### log it in your wandb run with wandb.save()\n",
    "wandb.save('model_arch.txt')"
   ]
  },
  {
   "cell_type": "markdown",
   "metadata": {
    "id": "nclx_04fu7Dd"
   },
   "source": [
    "# Experiment"
   ]
  },
  {
   "cell_type": "markdown",
   "metadata": {
    "id": "MdLMWfEpyGOB"
   },
   "source": [
    "Now, it is time to finally run your ablations! Have fun!"
   ]
  },
  {
   "cell_type": "code",
   "execution_count": 76,
   "metadata": {
    "id": "MG4F77Nm0Am9"
   },
   "outputs": [
    {
     "name": "stdout",
     "output_type": "stream",
     "text": [
      "\n",
      "Epoch 1/10\n",
      "\tTrain Loss: 2.7996\n",
      "\tValidation Accuracy: 37.10%\n",
      "\n",
      "Epoch 2/10\n",
      "\tTrain Loss: 2.2074\n",
      "\tValidation Accuracy: 40.78%\n",
      "\n",
      "Epoch 3/10\n",
      "\tTrain Loss: 2.0450\n",
      "\tValidation Accuracy: 42.40%\n",
      "\n",
      "Epoch 4/10\n",
      "\tTrain Loss: 1.9644\n",
      "\tValidation Accuracy: 43.06%\n",
      "\n",
      "Epoch 5/10\n",
      "\tTrain Loss: 1.9123\n",
      "\tValidation Accuracy: 43.97%\n",
      "\n",
      "Epoch 6/10\n",
      "\tTrain Loss: 1.8801\n",
      "\tValidation Accuracy: 44.45%\n",
      "\n",
      "Epoch 7/10\n",
      "\tTrain Loss: 1.8560\n",
      "\tValidation Accuracy: 44.63%\n",
      "\n",
      "Epoch 8/10\n",
      "\tTrain Loss: 1.8337\n",
      "\tValidation Accuracy: 44.80%\n",
      "\n",
      "Epoch 9/10\n",
      "\tTrain Loss: 1.8178\n",
      "\tValidation Accuracy: 45.16%\n",
      "\n",
      "Epoch 10/10\n",
      "\tTrain Loss: 1.8044\n",
      "\tValidation Accuracy: 45.38%\n"
     ]
    },
    {
     "data": {
      "text/html": [
       "Waiting for W&B process to finish... <strong style=\"color:green\">(success).</strong>"
      ],
      "text/plain": [
       "<IPython.core.display.HTML object>"
      ]
     },
     "metadata": {},
     "output_type": "display_data"
    },
    {
     "data": {
      "application/vnd.jupyter.widget-view+json": {
       "model_id": "",
       "version_major": 2,
       "version_minor": 0
      },
      "text/plain": [
       "VBox(children=(Label(value='0.001 MB of 0.001 MB uploaded (0.000 MB deduped)\\r'), FloatProgress(value=1.0, max…"
      ]
     },
     "metadata": {},
     "output_type": "display_data"
    },
    {
     "data": {
      "text/html": [
       "<style>\n",
       "    table.wandb td:nth-child(1) { padding: 0 10px; text-align: left ; width: auto;} td:nth-child(2) {text-align: left ; width: 100%}\n",
       "    .wandb-row { display: flex; flex-direction: row; flex-wrap: wrap; justify-content: flex-start; width: 100% }\n",
       "    .wandb-col { display: flex; flex-direction: column; flex-basis: 100%; flex: 1; padding: 10px; }\n",
       "    </style>\n",
       "<div class=\"wandb-row\"><div class=\"wandb-col\"><h3>Run history:</h3><br/><table class=\"wandb\"><tr><td>train loss</td><td>█▄▃▂▂▂▁▁▁▁</td></tr><tr><td>validation accuracy</td><td>▁▄▅▆▇▇▇███</td></tr></table><br/></div><div class=\"wandb-col\"><h3>Run summary:</h3><br/><table class=\"wandb\"><tr><td>train loss</td><td>1.80435</td></tr><tr><td>validation accuracy</td><td>45.37688</td></tr></table><br/></div></div>"
      ],
      "text/plain": [
       "<IPython.core.display.HTML object>"
      ]
     },
     "metadata": {},
     "output_type": "display_data"
    },
    {
     "data": {
      "text/html": [
       "Synced <strong style=\"color:#cdcd00\">first-run</strong>: <a href=\"https://wandb.ai/jiin/hw1p2/runs/r5nskw6w\" target=\"_blank\">https://wandb.ai/jiin/hw1p2/runs/r5nskw6w</a><br/>Synced 6 W&B file(s), 0 media file(s), 0 artifact file(s) and 1 other file(s)"
      ],
      "text/plain": [
       "<IPython.core.display.HTML object>"
      ]
     },
     "metadata": {},
     "output_type": "display_data"
    },
    {
     "data": {
      "text/html": [
       "Find logs at: <code>./wandb/run-20220914_102644-r5nskw6w/logs</code>"
      ],
      "text/plain": [
       "<IPython.core.display.HTML object>"
      ]
     },
     "metadata": {},
     "output_type": "display_data"
    }
   ],
   "source": [
    "# Iterate over number of epochs to train and evaluate your model\n",
    "torch.cuda.empty_cache()\n",
    "\n",
    "best_acc = 0.0 ### Monitor best accuracy in your run\n",
    "\n",
    "for epoch in range(config['epochs']):\n",
    "    print(\"\\nEpoch {}/{}\".format(epoch+1, config['epochs']))\n",
    "\n",
    "    train_loss = train(model, optimizer, criterion, train_loader)\n",
    "    accuracy = eval(model, val_loader)\n",
    "\n",
    "    print(\"\\tTrain Loss: {:.4f}\".format(train_loss))\n",
    "    print(\"\\tValidation Accuracy: {:.2f}%\".format(accuracy))\n",
    "\n",
    "\n",
    "    ### Log metrics at each epoch in your run - Optionally, you can log at each batch inside train/eval functions (explore wandb documentation/wandb recitation)\n",
    "    wandb.log({\"train loss\": train_loss, \"validation accuracy\": accuracy})\n",
    "\n",
    "    ### Save checkpoint if accuracy is better than your current best\n",
    "    if accuracy >= best_acc:\n",
    "\n",
    "      ### Save checkpoint with information you want\n",
    "      torch.save({'epoch': epoch,\n",
    "              'model_state_dict': model.state_dict(),\n",
    "              'optimizer_state_dict': optimizer.state_dict(),\n",
    "              'loss': train_loss,\n",
    "              'acc': accuracy}, \n",
    "        './model_checkpoint.pth')\n",
    "      \n",
    "      ### Save checkpoint in wandb\n",
    "      wandb.save('checkpoint.pth')\n",
    "\n",
    "    # Is your training time very high? Look into mixed precision training if your GPU (Tesla T4, V100, etc) can make use of it \n",
    "    # Refer - https://pytorch.org/docs/stable/notes/amp_examples.html\n",
    "\n",
    "### Finish your wandb run\n",
    "run.finish()"
   ]
  },
  {
   "cell_type": "markdown",
   "metadata": {
    "id": "_kXwf5YUo_4A"
   },
   "source": [
    "# Testing and submission to Kaggle"
   ]
  },
  {
   "cell_type": "markdown",
   "metadata": {
    "id": "WI1hSFYLpJvH"
   },
   "source": [
    "Before we get to the following code, make sure to see the format of submission given in *random_submission.csv*. Once you have done so, it is time to fill the following function to complete your inference on test data. Refer the eval function from previous cells to get an idea of how to go about completing this function."
   ]
  },
  {
   "cell_type": "code",
   "execution_count": 93,
   "metadata": {},
   "outputs": [],
   "source": [
    "from pandas_profiling import ProfileReport\n",
    "from ipywidgets import FloatProgress"
   ]
  },
  {
   "cell_type": "code",
   "execution_count": 95,
   "metadata": {
    "id": "R-SU9fZ3xHtk"
   },
   "outputs": [],
   "source": [
    "def test(model, test_loader):\n",
    "    ### What you call for model to perform inference?\n",
    "    model.eval()\n",
    "\n",
    "    ### List to store predicted phonemes of test data\n",
    "    test_predictions = []\n",
    "\n",
    "    ### Which mode do you need to avoid gradients?\n",
    "    with torch.inference_mode():\n",
    "\n",
    "        for i, frames in enumerate(tqdm(test_loader)):\n",
    "\n",
    "            frames = frames.float().to(device)             \n",
    "\n",
    "            output = model(frames)\n",
    "\n",
    "            ### Get most likely predicted phoneme with argmax\n",
    "            predicted_phonemes = torch.argmax(output, dim=1)\n",
    "\n",
    "            ### How do you store predicted_phonemes with test_predictions? Hint, look at eval \n",
    "            test_predictions.extend(predicted_phonemes.cpu().tolist())\n",
    "          \n",
    "    return test_predictions"
   ]
  },
  {
   "cell_type": "code",
   "execution_count": 96,
   "metadata": {
    "id": "wG9v6Xmxu7wp"
   },
   "outputs": [
    {
     "data": {
      "application/vnd.jupyter.widget-view+json": {
       "model_id": "14995dd445ff48469e3c832b853bb99a",
       "version_major": 2,
       "version_minor": 0
      },
      "text/plain": [
       "  0%|          | 0/1898 [00:00<?, ?it/s]"
      ]
     },
     "metadata": {},
     "output_type": "display_data"
    },
    {
     "name": "stderr",
     "output_type": "stream",
     "text": [
      "Exception ignored in: <function _MultiProcessingDataLoaderIter.__del__ at 0x7fc26ccd75e0>\n",
      "Traceback (most recent call last):\n",
      "  File \"/home/jiin/anaconda3/envs/torch/lib/python3.9/site-packages/torch/utils/data/dataloader.py\", line 1328, in __del__\n",
      "    self._shutdown_workers()\n",
      "  File \"/home/jiin/anaconda3/envs/torch/lib/python3.9/site-packages/torch/utils/data/dataloader.py\", line 1320, in _shutdown_workers\n",
      "    if w.is_alive():\n",
      "  File \"/home/jiin/anaconda3/envs/torch/lib/python3.9/multiprocessing/process.py\", line 160, in is_alive\n",
      "Exception ignored in:     <function _MultiProcessingDataLoaderIter.__del__ at 0x7fc26ccd75e0>assert self._parent_pid == os.getpid(), 'can only test a child process'\n",
      "\n",
      "Traceback (most recent call last):\n",
      "AssertionError  File \"/home/jiin/anaconda3/envs/torch/lib/python3.9/site-packages/torch/utils/data/dataloader.py\", line 1328, in __del__\n",
      ":     can only test a child processself._shutdown_workers()\n",
      "\n",
      "  File \"/home/jiin/anaconda3/envs/torch/lib/python3.9/site-packages/torch/utils/data/dataloader.py\", line 1320, in _shutdown_workers\n",
      "Exception ignored in:     <function _MultiProcessingDataLoaderIter.__del__ at 0x7fc26ccd75e0>if w.is_alive():\n",
      "\n",
      "Traceback (most recent call last):\n",
      "  File \"/home/jiin/anaconda3/envs/torch/lib/python3.9/multiprocessing/process.py\", line 160, in is_alive\n",
      "  File \"/home/jiin/anaconda3/envs/torch/lib/python3.9/site-packages/torch/utils/data/dataloader.py\", line 1328, in __del__\n",
      "    assert self._parent_pid == os.getpid(), 'can only test a child process'    \n",
      "self._shutdown_workers()AssertionError\n",
      ":   File \"/home/jiin/anaconda3/envs/torch/lib/python3.9/site-packages/torch/utils/data/dataloader.py\", line 1320, in _shutdown_workers\n",
      "can only test a child process\n",
      "    if w.is_alive():Exception ignored in: \n",
      "  File \"/home/jiin/anaconda3/envs/torch/lib/python3.9/multiprocessing/process.py\", line 160, in is_alive\n",
      "<function _MultiProcessingDataLoaderIter.__del__ at 0x7fc26ccd75e0>\n",
      "    Traceback (most recent call last):\n",
      "assert self._parent_pid == os.getpid(), 'can only test a child process'  File \"/home/jiin/anaconda3/envs/torch/lib/python3.9/site-packages/torch/utils/data/dataloader.py\", line 1328, in __del__\n",
      "\n",
      "AssertionError    : self._shutdown_workers()can only test a child process\n",
      "\n",
      "  File \"/home/jiin/anaconda3/envs/torch/lib/python3.9/site-packages/torch/utils/data/dataloader.py\", line 1320, in _shutdown_workers\n",
      "    if w.is_alive():\n",
      "  File \"/home/jiin/anaconda3/envs/torch/lib/python3.9/multiprocessing/process.py\", line 160, in is_alive\n",
      "    assert self._parent_pid == os.getpid(), 'can only test a child process'\n",
      "AssertionError: can only test a child process\n"
     ]
    }
   ],
   "source": [
    "predictions = test(model, test_loader)"
   ]
  },
  {
   "cell_type": "code",
   "execution_count": 97,
   "metadata": {
    "id": "ZE1hRnvf0bFz"
   },
   "outputs": [],
   "source": [
    "### Create CSV file with predictions\n",
    "with open(\"./submission.csv\", \"w+\") as f:\n",
    "    f.write(\"id,label\\n\")\n",
    "    for i in range(len(predictions)):\n",
    "        f.write(\"{},{}\\n\".format(i, predictions[i]))"
   ]
  },
  {
   "cell_type": "code",
   "execution_count": 98,
   "metadata": {},
   "outputs": [
    {
     "data": {
      "text/plain": [
       "(1943253, 2)"
      ]
     },
     "execution_count": 98,
     "metadata": {},
     "output_type": "execute_result"
    }
   ],
   "source": [
    "result_df = pd.read_csv('./submission.csv')\n",
    "result_df.shape"
   ]
  },
  {
   "cell_type": "code",
   "execution_count": 99,
   "metadata": {
    "id": "LjcammuCxMKN"
   },
   "outputs": [
    {
     "name": "stdout",
     "output_type": "stream",
     "text": [
      "/bin/bash: kaggle: command not found\n"
     ]
    }
   ],
   "source": [
    "### Submit to kaggle competition using kaggle API\n",
    "!kaggle competitions submit -c 11-785-f22-hw1p2 -f ./submission.csv -m \"Test Submission\""
   ]
  },
  {
   "cell_type": "code",
   "execution_count": null,
   "metadata": {},
   "outputs": [],
   "source": []
  }
 ],
 "metadata": {
  "accelerator": "GPU",
  "colab": {
   "collapsed_sections": [
    "z4vZbDmJvMp1",
    "ZIi0Big7vPa9",
    "Vuzce0_TdcaR",
    "qNacQ8bpt9nw",
    "2mlwaKlDt_2c",
    "Nxjwve20JRJ2",
    "HejoSXe3vMVU",
    "IBwunYpyugFg",
    "yMd_XxPku5qp",
    "nclx_04fu7Dd",
    "_kXwf5YUo_4A"
   ],
   "machine_shape": "hm",
   "provenance": []
  },
  "gpuClass": "standard",
  "kernelspec": {
   "display_name": "torch",
   "language": "python",
   "name": "torch"
  },
  "language_info": {
   "codemirror_mode": {
    "name": "ipython",
    "version": 3
   },
   "file_extension": ".py",
   "mimetype": "text/x-python",
   "name": "python",
   "nbconvert_exporter": "python",
   "pygments_lexer": "ipython3",
   "version": "3.9.7"
  },
  "vscode": {
   "interpreter": {
    "hash": "b0fa6594d8f4cbf19f97940f81e996739fb7646882a419484c72d19e05852a7e"
   }
  }
 },
 "nbformat": 4,
 "nbformat_minor": 4
}
